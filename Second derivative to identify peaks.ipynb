{
 "cells": [
  {
   "cell_type": "code",
   "execution_count": 30,
   "metadata": {},
   "outputs": [],
   "source": [
    "import pandas as pd\n",
    "import numpy as np\n",
    "import matplotlib.pyplot as plt\n",
    "import datetime\n",
    "import functools\n"
   ]
  },
  {
   "cell_type": "code",
   "execution_count": 31,
   "metadata": {},
   "outputs": [
    {
     "data": {
      "text/plain": [
       "Index(['Unnamed: 0', 'Unnamed: 0.1', 'ObservationID', 'ObservationTime',\n",
       "       'Date', 'ObservationTimeApproximate', 'Troop', 'Observer',\n",
       "       'ObservationType', 'UTMNorthing', 'UTMEasting', 'LocationApproximate',\n",
       "       'LocationDescription', 'Notes', 'ST', 'STUncertain', 'SM',\n",
       "       'SMUncertain', 'SF', 'SFUncertain', 'SU', 'SUUncertain', 'SA',\n",
       "       'SAUncertain', 'SAM', 'SAMUncertain', 'SAF', 'SAFUncertain', 'SAFP',\n",
       "       'SAFPUncertain', 'SAFL', 'SAFLUncertain', 'SAFEN', 'SAFENUncertain',\n",
       "       'SAU', 'SAUUncertain', 'SS', 'SSUncertain', 'SSM', 'SSMUncertain',\n",
       "       'SSF', 'SSFUncertain', 'SSU', 'SSUUncertain', 'SJ', 'SJUncertain',\n",
       "       'SJM', 'SJMUncertain', 'SJF', 'SJFUncertain', 'SJU', 'SJUUncertain',\n",
       "       'IT', 'ITUncertain', 'IM', 'IMUncertain', 'IF', 'IFUncertain', 'IU',\n",
       "       'IUUncertain', 'IA', 'IAUncertain', 'IAM', 'IAMUncertain', 'IAF',\n",
       "       'IAFUncertain', 'IAFP', 'IAFPUncertain', 'IAFL', 'IAFLUncertain',\n",
       "       'IAFEN', 'IAFENUncertain', 'IAU', 'IAUUncertain', 'IS', 'ISUncertain',\n",
       "       'ISM', 'ISMUncertain', 'ISF', 'ISFUncertain', 'ISU', 'ISUUncertain',\n",
       "       'IJ', 'IJUncertain', 'IJM', 'IJMUncertain', 'IJF', 'IJFUncertain',\n",
       "       'IJU', 'IJUUncertain', 'T', 'A', 'S', 'J', 'TimeSinceLast', 'TDiff',\n",
       "       'ObsYear', 'ObsMonth'],\n",
       "      dtype='object')"
      ]
     },
     "execution_count": 31,
     "metadata": {},
     "output_type": "execute_result"
    }
   ],
   "source": [
    "#pre-interpolated data\n",
    "#(made a copy of this in my directory... filename is probably not what you have Gabs)\n",
    "all_clean_data = pd.read_csv('all_clean_data-Copy1.csv', parse_dates=['Date'])\n",
    "all_clean_data.columns"
   ]
  },
  {
   "cell_type": "code",
   "execution_count": 32,
   "metadata": {},
   "outputs": [],
   "source": [
    "#gabrielle's function to add tdate, tdint and quarter (for pre-interpolated data)\n",
    "def add_tdate(df):\n",
    "    ##ADDS TDATE, TDINT, AND QUARTER COLUMNS\n",
    "    \n",
    "    \n",
    "    ##Functionality for full (multitroop) dataframes\n",
    "    try:\n",
    "        troop_names = df.loc[~df.Troop.str.contains('/')].Troop.unique()\n",
    "\n",
    "        df.loc[:,'tdate'] = 0\n",
    "        df.loc[:,'tdint'] = 0\n",
    "        \n",
    "        def add_qtr(x):\n",
    "            if x.month in [11,12,1]:\n",
    "                return 1\n",
    "            elif x.month in [2,3,4]:\n",
    "                return 2\n",
    "            elif x.month in [5,6,7]:\n",
    "                return 3\n",
    "            else:\n",
    "                return 4\n",
    "\n",
    "        df.loc[:,'quarter'] = df.loc[:,'Date'].apply(lambda x: add_qtr(x))\n",
    "        \n",
    "        \n",
    "\n",
    "        for troop in troop_names:\n",
    "\n",
    "            td = df.loc[df.Troop.str.contains(troop)]\n",
    "            \n",
    "            #td.loc[:,'tdint'] = td.Date.apply(lambda x: x.year)\n",
    "            #td.loc[:,'tdint'] -= td.loc[:,'tdint'].iloc[0]\n",
    "            \n",
    "            ###ecount identifies first incomplete year\n",
    "            ecount = 0\n",
    "            ###Counter assigns tdint value\n",
    "            counter = 0\n",
    "\n",
    "            for year in td.ObsYear.unique():\n",
    "                ##Finds full single Nov-start year for a troop\n",
    "                wd = td.loc[(td.Date >= datetime.datetime(int(year),11,1))&(td.Date < datetime.datetime(int(year)+1,11,1))]\n",
    "\n",
    "                ##Special handling for data that doesn't have a full Nov-start year at beginning of troop data\n",
    "                if ecount == 0:\n",
    "                    ed = td.loc[td.Date<datetime.datetime(int(year),11,1)]\n",
    "                    ed.loc[:,'tdate'] = ed.loc[:,'Date'].apply(lambda x: (int(x.strftime('%j'))-305+365)/365)\n",
    "                    ed.loc[:,'tdint'] = -1\n",
    "                    ecount+=1\n",
    "\n",
    "                try:\n",
    "                    ##Converts date to a percentage number (0,1) based on Nov-start year Nov 1 = 0 and Oct 31 = 0.99 \n",
    "                    wd.loc[:,'tdate'] = wd.loc[:,'Date'].apply(lambda x: (int(x.strftime('%j'))-305)/365 if x <= datetime.datetime(int(year),12,31) else (int(x.strftime('%j'))-305+365)/365)\n",
    "                    wd.loc[:,'tdint'] = counter\n",
    "                    counter += 1\n",
    "                    df.update(wd)\n",
    "                    df.update(ed)\n",
    "                except:\n",
    "                    raise Exception('There is an error updating input dataframe in add_tdate function.')\n",
    "                    \n",
    "                    \n",
    "                    \n",
    "    ##Functionality for single troop dataframes\n",
    "    ##MUST HAVE DATE COLUMN\n",
    "    ##For single troop data, will not add tdint based on iterations\n",
    "        ##Will pull unique years from Date column\n",
    "    except:\n",
    "        \n",
    "        df.loc[:,'tdate'] = 0\n",
    "        df.loc[:,'tdint'] = 0\n",
    "        \n",
    "        def add_qtr(x):\n",
    "            if x.month in [11,12,1]:\n",
    "                return 1\n",
    "            elif x.month in [2,3,4]:\n",
    "                return 2\n",
    "            elif x.month in [5,6,7]:\n",
    "                return 3\n",
    "            else:\n",
    "                return 4\n",
    "\n",
    "        df.loc[:,'quarter'] = df.loc[:,'Date'].apply(lambda x: add_qtr(x))\n",
    "        \n",
    "        \n",
    "\n",
    "        td = df.copy()\n",
    "        ###ecount identifies first incomplete year\n",
    "        ecount = 0\n",
    "        ###Counter assigns tdint value\n",
    "        counter = 0\n",
    "    \n",
    "        for year in td.loc[:,'Date'].apply(lambda x: x.year).unique():\n",
    "            ##Finds full single Nov-start year for a troop\n",
    "            wd = td.loc[(td.Date >= datetime.datetime(int(year),11,1))&(td.Date < datetime.datetime(int(year)+1,11,1))]\n",
    "\n",
    "            ##Special handling for data that doesn't have a full Nov-start year at beginning of troop data\n",
    "            if ecount == 0:\n",
    "                ed = td.loc[td.loc[:,'Date']<datetime.datetime(int(year),11,1)]\n",
    "                ed.loc[:,'tdate'] = ed.loc[:,'Date'].apply(lambda x: (int(x.strftime('%j'))-305+365)/365)\n",
    "                ed.loc[:,'tdint'] = -1\n",
    "                ecount+=1\n",
    "\n",
    "            try:\n",
    "                ##Converts date to a percentage number (0,1) based on Nov-start year Nov 1 = 0 and Oct 31 = 0.99 \n",
    "                wd.loc[:,'tdate'] = wd.loc[:,'Date'].apply(lambda x: (int(x.strftime('%j'))-305)/365 if x <= datetime.datetime(int(year),12,31) else (int(x.strftime('%j'))-305+365)/365)\n",
    "                wd.loc[:,'tdint'] = counter\n",
    "                counter += 1\n",
    "                df.update(wd)\n",
    "                df.update(ed)\n",
    "            except:\n",
    "                raise Exception('There is an error updating input dataframe in add_tdate function.')\n",
    "\n",
    "    \n",
    "    \n",
    "    return df"
   ]
  },
  {
   "cell_type": "code",
   "execution_count": 33,
   "metadata": {},
   "outputs": [
    {
     "name": "stderr",
     "output_type": "stream",
     "text": [
      "/opt/anaconda3/lib/python3.7/site-packages/pandas/core/indexing.py:494: SettingWithCopyWarning: \n",
      "A value is trying to be set on a copy of a slice from a DataFrame.\n",
      "Try using .loc[row_indexer,col_indexer] = value instead\n",
      "\n",
      "See the caveats in the documentation: http://pandas.pydata.org/pandas-docs/stable/user_guide/indexing.html#returning-a-view-versus-a-copy\n",
      "  self.obj[item] = s\n"
     ]
    }
   ],
   "source": [
    "#add tdate, tdint, quarter\n",
    "all_clean_data_td = add_tdate(all_clean_data)"
   ]
  },
  {
   "cell_type": "code",
   "execution_count": 34,
   "metadata": {},
   "outputs": [],
   "source": [
    "all_clean_data_td=all_clean_data_td.loc[(all_clean_data_td.quarter > 2)]"
   ]
  },
  {
   "cell_type": "code",
   "execution_count": 45,
   "metadata": {},
   "outputs": [
    {
     "data": {
      "text/html": [
       "<div>\n",
       "<style scoped>\n",
       "    .dataframe tbody tr th:only-of-type {\n",
       "        vertical-align: middle;\n",
       "    }\n",
       "\n",
       "    .dataframe tbody tr th {\n",
       "        vertical-align: top;\n",
       "    }\n",
       "\n",
       "    .dataframe thead th {\n",
       "        text-align: right;\n",
       "    }\n",
       "</style>\n",
       "<table border=\"1\" class=\"dataframe\">\n",
       "  <thead>\n",
       "    <tr style=\"text-align: right;\">\n",
       "      <th></th>\n",
       "      <th>Unnamed: 0</th>\n",
       "      <th>Unnamed: 0.1</th>\n",
       "      <th>ObservationID</th>\n",
       "      <th>ObservationTime</th>\n",
       "      <th>Date</th>\n",
       "      <th>ObservationTimeApproximate</th>\n",
       "      <th>Troop</th>\n",
       "      <th>Observer</th>\n",
       "      <th>ObservationType</th>\n",
       "      <th>UTMNorthing</th>\n",
       "      <th>...</th>\n",
       "      <th>A</th>\n",
       "      <th>S</th>\n",
       "      <th>J</th>\n",
       "      <th>TimeSinceLast</th>\n",
       "      <th>TDiff</th>\n",
       "      <th>ObsYear</th>\n",
       "      <th>ObsMonth</th>\n",
       "      <th>tdate</th>\n",
       "      <th>tdint</th>\n",
       "      <th>quarter</th>\n",
       "    </tr>\n",
       "  </thead>\n",
       "  <tbody>\n",
       "    <tr>\n",
       "      <td>1591</td>\n",
       "      <td>1591.0</td>\n",
       "      <td>9560.0</td>\n",
       "      <td>cgl1005111617</td>\n",
       "      <td>5/11/10 16:17</td>\n",
       "      <td>2010-05-11</td>\n",
       "      <td>0.0</td>\n",
       "      <td>CGL</td>\n",
       "      <td>Mpho Ramotadima</td>\n",
       "      <td>Forage/Rest</td>\n",
       "      <td>8026407.0</td>\n",
       "      <td>...</td>\n",
       "      <td>30.0</td>\n",
       "      <td>11.0</td>\n",
       "      <td>NaN</td>\n",
       "      <td>11 days 00:00:00.000000000</td>\n",
       "      <td>-2.0</td>\n",
       "      <td>2010.0</td>\n",
       "      <td>5.0</td>\n",
       "      <td>0.523288</td>\n",
       "      <td>1.0</td>\n",
       "      <td>3.0</td>\n",
       "    </tr>\n",
       "    <tr>\n",
       "      <td>1593</td>\n",
       "      <td>1593.0</td>\n",
       "      <td>9567.0</td>\n",
       "      <td>cgl1005121124</td>\n",
       "      <td>5/12/10 11:24</td>\n",
       "      <td>2010-05-12</td>\n",
       "      <td>0.0</td>\n",
       "      <td>CGL</td>\n",
       "      <td>Mpho Ramotadima</td>\n",
       "      <td>Moving</td>\n",
       "      <td>8026261.0</td>\n",
       "      <td>...</td>\n",
       "      <td>NaN</td>\n",
       "      <td>NaN</td>\n",
       "      <td>NaN</td>\n",
       "      <td>1 days 00:00:00.000000000</td>\n",
       "      <td>-7.0</td>\n",
       "      <td>2010.0</td>\n",
       "      <td>5.0</td>\n",
       "      <td>0.526027</td>\n",
       "      <td>1.0</td>\n",
       "      <td>3.0</td>\n",
       "    </tr>\n",
       "    <tr>\n",
       "      <td>1606</td>\n",
       "      <td>1606.0</td>\n",
       "      <td>9589.0</td>\n",
       "      <td>cgl1005171630</td>\n",
       "      <td>5/17/10 16:30</td>\n",
       "      <td>2010-05-17</td>\n",
       "      <td>0.0</td>\n",
       "      <td>CGL</td>\n",
       "      <td>Mpho Ramotadima</td>\n",
       "      <td>Foraging</td>\n",
       "      <td>8026242.0</td>\n",
       "      <td>...</td>\n",
       "      <td>15.0</td>\n",
       "      <td>8.0</td>\n",
       "      <td>NaN</td>\n",
       "      <td>5 days 00:00:00.000000000</td>\n",
       "      <td>-11.0</td>\n",
       "      <td>2010.0</td>\n",
       "      <td>5.0</td>\n",
       "      <td>0.539726</td>\n",
       "      <td>1.0</td>\n",
       "      <td>3.0</td>\n",
       "    </tr>\n",
       "    <tr>\n",
       "      <td>1612</td>\n",
       "      <td>1612.0</td>\n",
       "      <td>9599.0</td>\n",
       "      <td>cgl1005181652</td>\n",
       "      <td>5/18/10 16:52</td>\n",
       "      <td>2010-05-18</td>\n",
       "      <td>0.0</td>\n",
       "      <td>CGL</td>\n",
       "      <td>Mpho Ramotadima</td>\n",
       "      <td>Forage/Rest</td>\n",
       "      <td>8026234.0</td>\n",
       "      <td>...</td>\n",
       "      <td>15.0</td>\n",
       "      <td>6.0</td>\n",
       "      <td>NaN</td>\n",
       "      <td>1 days 00:00:00.000000000</td>\n",
       "      <td>-2.0</td>\n",
       "      <td>2010.0</td>\n",
       "      <td>5.0</td>\n",
       "      <td>0.542466</td>\n",
       "      <td>1.0</td>\n",
       "      <td>3.0</td>\n",
       "    </tr>\n",
       "    <tr>\n",
       "      <td>1613</td>\n",
       "      <td>1613.0</td>\n",
       "      <td>9603.0</td>\n",
       "      <td>cgl1005190800</td>\n",
       "      <td>5/19/10 8:00</td>\n",
       "      <td>2010-05-19</td>\n",
       "      <td>0.0</td>\n",
       "      <td>CGL</td>\n",
       "      <td>Mpho Ramotadima</td>\n",
       "      <td>Foraging</td>\n",
       "      <td>8026033.0</td>\n",
       "      <td>...</td>\n",
       "      <td>37.0</td>\n",
       "      <td>8.0</td>\n",
       "      <td>NaN</td>\n",
       "      <td>1 days 00:00:00.000000000</td>\n",
       "      <td>24.0</td>\n",
       "      <td>2010.0</td>\n",
       "      <td>5.0</td>\n",
       "      <td>0.545205</td>\n",
       "      <td>1.0</td>\n",
       "      <td>3.0</td>\n",
       "    </tr>\n",
       "  </tbody>\n",
       "</table>\n",
       "<p>5 rows × 101 columns</p>\n",
       "</div>"
      ],
      "text/plain": [
       "      Unnamed: 0  Unnamed: 0.1  ObservationID ObservationTime       Date  \\\n",
       "1591      1591.0        9560.0  cgl1005111617   5/11/10 16:17 2010-05-11   \n",
       "1593      1593.0        9567.0  cgl1005121124   5/12/10 11:24 2010-05-12   \n",
       "1606      1606.0        9589.0  cgl1005171630   5/17/10 16:30 2010-05-17   \n",
       "1612      1612.0        9599.0  cgl1005181652   5/18/10 16:52 2010-05-18   \n",
       "1613      1613.0        9603.0  cgl1005190800    5/19/10 8:00 2010-05-19   \n",
       "\n",
       "      ObservationTimeApproximate Troop         Observer ObservationType  \\\n",
       "1591                         0.0   CGL  Mpho Ramotadima     Forage/Rest   \n",
       "1593                         0.0   CGL  Mpho Ramotadima          Moving   \n",
       "1606                         0.0   CGL  Mpho Ramotadima        Foraging   \n",
       "1612                         0.0   CGL  Mpho Ramotadima     Forage/Rest   \n",
       "1613                         0.0   CGL  Mpho Ramotadima        Foraging   \n",
       "\n",
       "      UTMNorthing  ...     A     S   J               TimeSinceLast  TDiff  \\\n",
       "1591    8026407.0  ...  30.0  11.0 NaN  11 days 00:00:00.000000000   -2.0   \n",
       "1593    8026261.0  ...   NaN   NaN NaN   1 days 00:00:00.000000000   -7.0   \n",
       "1606    8026242.0  ...  15.0   8.0 NaN   5 days 00:00:00.000000000  -11.0   \n",
       "1612    8026234.0  ...  15.0   6.0 NaN   1 days 00:00:00.000000000   -2.0   \n",
       "1613    8026033.0  ...  37.0   8.0 NaN   1 days 00:00:00.000000000   24.0   \n",
       "\n",
       "      ObsYear  ObsMonth     tdate  tdint  quarter  \n",
       "1591   2010.0       5.0  0.523288    1.0      3.0  \n",
       "1593   2010.0       5.0  0.526027    1.0      3.0  \n",
       "1606   2010.0       5.0  0.539726    1.0      3.0  \n",
       "1612   2010.0       5.0  0.542466    1.0      3.0  \n",
       "1613   2010.0       5.0  0.545205    1.0      3.0  \n",
       "\n",
       "[5 rows x 101 columns]"
      ]
     },
     "execution_count": 45,
     "metadata": {},
     "output_type": "execute_result"
    }
   ],
   "source": [
    "#subset of the data for one troop-year\n",
    "all_clean_data_sub = all_clean_data_td.loc[(all_clean_data_td.Troop.str.contains('CGL')) & \n",
    "               (all_clean_data_td.tdint == 1)]\n",
    "all_clean_data_sub.head()"
   ]
  },
  {
   "cell_type": "code",
   "execution_count": 46,
   "metadata": {},
   "outputs": [
    {
     "data": {
      "text/plain": [
       "array([-5.00000000e+00, -9.00000000e+00, -6.50000000e+00,  1.10000000e+01,\n",
       "       -1.00000000e+00, -7.50000000e+00,  5.50000000e+00, -5.50000000e+00,\n",
       "       -7.00000000e+00, -8.00000000e+00,  1.10000000e+01,  8.00000000e+00,\n",
       "        6.50000000e+00,  1.50000000e+01, -8.00000000e+00, -9.00000000e+00,\n",
       "       -1.50000000e+01, -2.00000000e+00,  1.20000000e+01, -7.00000000e+00,\n",
       "       -1.25000000e+01, -5.00000000e+00,  1.50000000e+00,  1.00000000e+00,\n",
       "       -1.50000000e+00, -5.00000000e-01, -1.81458459e-16,  1.05000000e+01,\n",
       "        1.00000000e+00, -1.10000000e+01, -1.00000000e+00, -1.00000000e+00,\n",
       "       -5.00000000e+00])"
      ]
     },
     "execution_count": 46,
     "metadata": {},
     "output_type": "execute_result"
    }
   ],
   "source": [
    "from scipy.signal import savgol_filter\n",
    "\n",
    "x = np.array(all_clean_data_sub['tdate'])\n",
    "y = np.array(all_clean_data_sub['T'])\n",
    "\n",
    "der1 = savgol_filter(y, polyorder=2, window_length=3, deriv=1)\n",
    "der1\n"
   ]
  },
  {
   "cell_type": "code",
   "execution_count": 47,
   "metadata": {},
   "outputs": [
    {
     "data": {
      "text/plain": [
       "array([-4.00000000e+00, -4.00000000e+00,  9.00000000e+00,  2.60000000e+01,\n",
       "       -5.00000000e+01,  3.70000000e+01, -1.10000000e+01, -1.10000000e+01,\n",
       "        8.00000000e+00, -1.00000000e+01,  4.80000000e+01, -5.40000000e+01,\n",
       "        5.10000000e+01, -3.40000000e+01, -1.20000000e+01,  1.00000000e+01,\n",
       "       -2.20000000e+01,  4.80000000e+01, -2.00000000e+01, -1.80000000e+01,\n",
       "        7.00000000e+00,  8.00000000e+00,  5.00000000e+00, -6.00000000e+00,\n",
       "        1.00000000e+00,  1.00000000e+00, -1.77635684e-15,  2.10000000e+01,\n",
       "       -4.00000000e+01,  1.60000000e+01,  4.00000000e+00, -4.00000000e+00,\n",
       "       -4.00000000e+00])"
      ]
     },
     "execution_count": 47,
     "metadata": {},
     "output_type": "execute_result"
    }
   ],
   "source": [
    "dery2 = savgol_filter(y, polyorder=2, window_length=3, deriv=2)\n",
    "dery2"
   ]
  },
  {
   "cell_type": "code",
   "execution_count": 48,
   "metadata": {},
   "outputs": [
    {
     "data": {
      "text/plain": [
       "array([False, False,  True,  True, False,  True, False, False,  True,\n",
       "       False,  True, False,  True, False, False,  True, False,  True,\n",
       "       False, False,  True,  True,  True, False,  True,  True, False,\n",
       "        True, False,  True,  True, False, False])"
      ]
     },
     "execution_count": 48,
     "metadata": {},
     "output_type": "execute_result"
    }
   ],
   "source": [
    "dery2 > 0"
   ]
  },
  {
   "cell_type": "code",
   "execution_count": 49,
   "metadata": {},
   "outputs": [
    {
     "data": {
      "text/plain": [
       "array([41., 34., 45., 30., 30., 16., 38., 51., 49., 31., 27., 29.,  7.,\n",
       "        4., 25.,  4.,  1.])"
      ]
     },
     "execution_count": 49,
     "metadata": {},
     "output_type": "execute_result"
    }
   ],
   "source": [
    "y[dery2<0]"
   ]
  },
  {
   "cell_type": "code",
   "execution_count": 51,
   "metadata": {},
   "outputs": [
    {
     "data": {
      "image/png": "[encoded data removed]",
      "text/plain": [
       "<Figure size 432x288 with 1 Axes>"
      ]
     },
     "metadata": {
      "needs_background": "light"
     },
     "output_type": "display_data"
    }
   ],
   "source": [
    "plt.plot(x,y)\n",
    "plt.plot(x[dery2<0],y[dery2<0])\n",
    "\n",
    "plt.show()\n"
   ]
  },
  {
   "cell_type": "code",
   "execution_count": null,
   "metadata": {},
   "outputs": [],
   "source": []
  },
  {
   "cell_type": "code",
   "execution_count": null,
   "metadata": {},
   "outputs": [],
   "source": []
  }
 ],
 "metadata": {
  "kernelspec": {
   "display_name": "Python 3",
   "language": "python",
   "name": "python3"
  },
  "language_info": {
   "codemirror_mode": {
    "name": "ipython",
    "version": 3
   },
   "file_extension": ".py",
   "mimetype": "text/x-python",
   "name": "python",
   "nbconvert_exporter": "python",
   "pygments_lexer": "ipython3",
   "version": "3.7.4"
  }
 },
 "nbformat": 4,
 "nbformat_minor": 2
}
