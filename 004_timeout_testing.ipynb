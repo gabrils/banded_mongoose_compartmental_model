{
 "cells": [
  {
   "cell_type": "code",
   "execution_count": 1,
   "metadata": {},
   "outputs": [
    {
     "name": "stdout",
     "output_type": "stream",
     "text": [
      "importing Jupyter notebook from function_log.ipynb\n"
     ]
    },
    {
     "ename": "ModuleNotFoundError",
     "evalue": "No module named 'lhsmdu'",
     "output_type": "error",
     "traceback": [
      "\u001b[0;31m---------------------------------------------------------------------------\u001b[0m",
      "\u001b[0;31mModuleNotFoundError\u001b[0m                       Traceback (most recent call last)",
      "\u001b[0;32m<ipython-input-1-d55498643bc0>\u001b[0m in \u001b[0;36m<module>\u001b[0;34m\u001b[0m\n\u001b[1;32m     19\u001b[0m \u001b[0;32mfrom\u001b[0m \u001b[0mfunction_log\u001b[0m \u001b[0;32mimport\u001b[0m \u001b[0msmape\u001b[0m\u001b[0;34m,\u001b[0m\u001b[0madd_tdate\u001b[0m\u001b[0;34m,\u001b[0m\u001b[0mget_week\u001b[0m\u001b[0;34m,\u001b[0m\u001b[0mdensity_interp\u001b[0m\u001b[0;34m,\u001b[0m\u001b[0mextract_date\u001b[0m\u001b[0;34m,\u001b[0m\u001b[0mIC_run_sim\u001b[0m\u001b[0;34m,\u001b[0m\u001b[0mnew_compare\u001b[0m\u001b[0;34m,\u001b[0m\u001b[0mrun_sim\u001b[0m\u001b[0;34m,\u001b[0m\u001b[0mstoc_eqs\u001b[0m\u001b[0;34m,\u001b[0m\u001b[0mStoch_Iteration\u001b[0m\u001b[0;34m,\u001b[0m\u001b[0mstoch_model\u001b[0m\u001b[0;34m\u001b[0m\u001b[0;34m\u001b[0m\u001b[0m\n\u001b[1;32m     20\u001b[0m \u001b[0;34m\u001b[0m\u001b[0m\n\u001b[0;32m---> 21\u001b[0;31m \u001b[0;32mimport\u001b[0m \u001b[0mlhsmdu\u001b[0m\u001b[0;34m\u001b[0m\u001b[0;34m\u001b[0m\u001b[0m\n\u001b[0m\u001b[1;32m     22\u001b[0m \u001b[0;32mimport\u001b[0m \u001b[0mrandom\u001b[0m\u001b[0;34m\u001b[0m\u001b[0;34m\u001b[0m\u001b[0m\n",
      "\u001b[0;31mModuleNotFoundError\u001b[0m: No module named 'lhsmdu'"
     ]
    }
   ],
   "source": [
    "import pandas as pd\n",
    "from matplotlib import pyplot as plt\n",
    "import datetime\n",
    "%matplotlib inline\n",
    "import seaborn as sns\n",
    "sns.set()\n",
    "from matplotlib.backends.backend_pdf import PdfPages\n",
    "#from mpl_toolkits.basemap import Basemap\n",
    "import matplotlib.cm as cm\n",
    "import matplotlib.colors as col\n",
    "import matplotlib as mpl\n",
    "import numpy as np #import for transposing\n",
    "import math\n",
    "import pylab as pl\n",
    "#import mpld3 as ml\n",
    "import math\n",
    "import import_ipynb\n",
    "from sklearn.metrics import mean_squared_error,mean_absolute_error\n",
    "from function_log import smape,add_tdate,get_week,density_interp,extract_date,IC_run_sim,new_compare,run_sim,stoc_eqs,Stoch_Iteration,stoch_model\n",
    "\n",
    "import lhsmdu\n",
    "import random"
   ]
  },
  {
   "cell_type": "code",
   "execution_count": 3,
   "metadata": {},
   "outputs": [],
   "source": [
    "new_census = pd.read_csv('new_census.csv')\n",
    "new_census['Date'] = pd.to_datetime(new_census['Date'])\n",
    "new_census['ObsYear'] = new_census.Date.apply(lambda x: x.year)\n",
    "new_census['ObsMonth'] = new_census.Date.apply(lambda x:x.month)\n",
    "\n",
    "new_census.T = pd.to_numeric(new_census['T'],errors='coerce')\n",
    "new_census.J = pd.to_numeric(new_census.J)\n",
    "new_census.A = pd.to_numeric(new_census.A)\n",
    "new_census.S = pd.to_numeric(new_census.S)"
   ]
  },
  {
   "cell_type": "code",
   "execution_count": 5,
   "metadata": {},
   "outputs": [],
   "source": [
    "t_types = pd.read_csv('troop_types.csv')\n",
    "\n",
    "rural_troops = list(t_types.loc[t_types['Type Code'] == 0]['Troop'])\n",
    "rural = new_census.loc[new_census.Troop.isin(rural_troops)]\n",
    "\n",
    "urb_troops = list(t_types.loc[t_types['Type Code'] == 1]['Troop'])\n",
    "urban = new_census.loc[new_census.Troop.isin(urb_troops)]"
   ]
  },
  {
   "cell_type": "code",
   "execution_count": 6,
   "metadata": {},
   "outputs": [],
   "source": [
    "from __future__ import print_function\n",
    "import sys\n",
    "import threading\n",
    "from time import sleep\n",
    "try:\n",
    "    import thread\n",
    "except ImportError:\n",
    "    import _thread as thread"
   ]
  },
  {
   "cell_type": "code",
   "execution_count": 7,
   "metadata": {},
   "outputs": [],
   "source": [
    "def quit_function():\n",
    "    # print to stderr, unbuffered in Python 2.\n",
    "    print('Parameter set rejected', file=sys.stderr)\n",
    "    sys.stderr.flush() # Python 3 stderr is likely buffered.\n",
    "    thread.interrupt_main() # raises KeyboardInterrupt"
   ]
  },
  {
   "cell_type": "code",
   "execution_count": 8,
   "metadata": {},
   "outputs": [],
   "source": [
    "def exit_after(s):\n",
    "    '''\n",
    "    use as decorator to exit process if \n",
    "    function takes longer than s seconds\n",
    "    '''\n",
    "    def outer(fn):\n",
    "        def inner(*args, **kwargs):\n",
    "            timer = threading.Timer(s, quit_function, args=[])\n",
    "            timer.start()\n",
    "            try:\n",
    "                result = fn(*args, **kwargs)\n",
    "            finally:\n",
    "                timer.cancel()\n",
    "            return result\n",
    "        return inner\n",
    "    return outer"
   ]
  },
  {
   "cell_type": "code",
   "execution_count": 9,
   "metadata": {},
   "outputs": [],
   "source": [
    "from sklearn.utils import shuffle\n",
    "linparams = pd.DataFrame(data={'b_j':shuffle(np.linspace(0.254,0.344)).T,\n",
    "                   'd_j':shuffle(np.linspace(0.278,0.412)).T,\n",
    "                   'd_s':shuffle(np.linspace(0.136,0.296)).T,\n",
    "                   'd_a':shuffle(np.linspace(0.034,0.252)).T,\n",
    "                   'ae_j':shuffle(np.linspace(0.1,0.8)).T,\n",
    "                   'ae_s':shuffle(np.linspace(0.1,0.8)).T,\n",
    "                   'ae_a':shuffle(np.linspace(0.1,0.8)).T,\n",
    "                   't_p':shuffle(np.linspace(0.15,0.7)).T,\n",
    "                   'por':shuffle(np.linspace(0.1,0.6)).T,\n",
    "                   'fsr':shuffle(np.linspace(0.2,0.8)).T,\n",
    "                   'thresh':shuffle(np.linspace(4,6)).T,\n",
    "                   'fis_thresh':shuffle(np.linspace(38,68)).T,\n",
    "                   'lit_size':shuffle(np.linspace(3,5)).T,\n",
    "                   'no_ev':shuffle(np.linspace(0.8,0.95)).T,\n",
    "                   'rt_chg':shuffle(np.linspace(0.05,0.5)).T,\n",
    "                   'fus_fis':shuffle(np.linspace(0.1,0.7)).T,\n",
    "                  },columns = ['b_j', 'd_j', 'd_s', 'd_a', 'ae_j',\n",
    "        'ae_s','ae_a', 't_p', 'por', 'fsr', 'thresh','fis_thresh','lit_size','no_ev', 'rt_chg','fus_fis'])"
   ]
  },
  {
   "cell_type": "code",
   "execution_count": 11,
   "metadata": {},
   "outputs": [],
   "source": [
    "test = pd.read_csv('param_space.csv')\n",
    "test.loc[:,'lit_size'] = round(test.lit_size)\n",
    "test.loc[:,'thresh'] = round(test.thresh)"
   ]
  },
  {
   "cell_type": "code",
   "execution_count": 12,
   "metadata": {},
   "outputs": [],
   "source": [
    "def sens_param(sets,iters,timeout,dataset,feat=0,range_type=0,paramset=0,start_set=0):\n",
    "   \n",
    "    rejects = pd.DataFrame()\n",
    "   \n",
    "   \n",
    "    ##IMPORT parameter space\n",
    "    try:\n",
    "        if paramset == 0:\n",
    "            if range_type==0:\n",
    "                params = pd.read_csv('param_space.csv')\n",
    "            else:\n",
    "                params = pd.read_csv('../ABC_estimation/MatLab/{}_range_list.csv'.format(range_type))\n",
    "\n",
    "            params.loc[:,'lit_size'] = round(params['lit_size'])\n",
    "            params.loc[:,'thresh'] = round(params['thresh'])\n",
    "            params.loc[:,'fis_thresh'] = round(params['fis_thresh'])\n",
    "    except:\n",
    "        params = paramset\n",
    "   \n",
    "\n",
    "\n",
    "    full_est = pd.DataFrame()\n",
    "   \n",
    "    param_names = ['no_ev', 'rt_chg', 'b_j', 'd_j', 'd_s', 'd_a', 'ae_j',\n",
    "        'ae_s','ae_a', 't_p', 'por', 'fsr', 'thresh','fis_thresh','lit_size','fus_fis']\n",
    "    feat_names = ['d_j','d_a','por','fsr','no_ev']\n",
    "\n",
    "    ##Initialize timeout function\n",
    "    @exit_after(timeout)\n",
    "    def run_params(iterations,data,param_sens=0):\n",
    "        \n",
    "        if param_sens == 'd_j':\n",
    "            par_est = new_compare(data,iters=iterations,d_j = row['d_j'])\n",
    "            return par_est\n",
    "\n",
    "        elif param_sens == 'd_a':\n",
    "            par_est = new_compare(data,iters=iterations,d_a = row['d_a'])\n",
    "            return par_est\n",
    "\n",
    "        elif param_sens == 'por':\n",
    "            par_est = new_compare(data,iters=iterations,por = row['por'])\n",
    "            return par_est\n",
    "\n",
    "        elif param_sens == 'fsr':\n",
    "            par_est = new_compare(data,iters=iterations,fsr = row['fsr'])\n",
    "            return par_est\n",
    "\n",
    "        elif param_sens == 'no_ev':\n",
    "            par_est = new_compare(data,iters=iterations,no_ev = row['no_ev'])\n",
    "            return par_est\n",
    "\n",
    "        else:\n",
    "            par_est = new_compare(data,\n",
    "                                   iters=iterations,\n",
    "                                   years=1,\n",
    "                                   no_ev = row['no_ev'],\n",
    "                                   rt_chg = row['rt_chg'],\n",
    "                                   fus_fis = row['fus_fis'],\n",
    "                                   b_j = row['b_j'],\n",
    "                                   d_j = row['d_j'],\n",
    "                                   d_s = row['d_s'],\n",
    "                                   d_a = row['d_a'],\n",
    "                                   ae_j = row['ae_j'],\n",
    "                                   ae_s = row['ae_s'],\n",
    "                                   ae_a = row['ae_a'],\n",
    "                                   t_p = row['t_p'],\n",
    "                                   por = row['por'],\n",
    "                                   fsr = row['fsr'],\n",
    "                                   thresh = row['thresh'],\n",
    "                                   fis_thresh = row['fis_thresh'],\n",
    "                                   lit_size = row['lit_size'],\n",
    "                                   dfe='off')\n",
    "            return par_est\n",
    "\n",
    "            \n",
    "           \n",
    "       \n",
    "    ##Run parameter sets\n",
    "    for index,row in params[start_set:start_set+sets].iterrows():\n",
    "        if feat != 0:\n",
    "            try:\n",
    "                for var in feat_names:\n",
    "                    if range_type == 0:\n",
    "                        run_params(iterations=iters,data=dataset,param_sens=var).to_csv('../ABC_estimation/feat_runs/{}/{}_param_run_{}.csv'.format(var,var,str(index).zfill(3)))\n",
    "                    else:\n",
    "                        run_params(iterations=iters,data=dataset,param_sens=var).to_csv('../ABC_estimation/feat_runs/range_test/{}/{}_{}_run_{}.csv'.format(var,var,range_type,str(index).zfill(3)))\n",
    "            except:\n",
    "                rejects = rejects.append(row)\n",
    "        else:\n",
    "            try:\n",
    "                run_params(iterations=iters,data=dataset).to_csv('../ABC_estimation/final_run/param_run_{}.csv'.format(str(index).zfill(3)))\n",
    "            except:\n",
    "                rejects = rejects.append(row)\n",
    "           \n",
    "    if len(rejects) >= 1:\n",
    "        if feat==0:\n",
    "            rejects.to_csv('../ABC_estimation/final_run/rejects.csv')\n",
    "            return rejects\n",
    "        else:\n",
    "            rejects.to_csv('../ABC_estimation/feat_runs/feat_rejects.csv')\n",
    "            return rejects\n",
    "    else:\n",
    "        return\n"
   ]
  },
  {
   "cell_type": "code",
   "execution_count": 34,
   "metadata": {},
   "outputs": [
    {
     "name": "stderr",
     "output_type": "stream",
     "text": [
      "Parameter set rejected\n",
      "Parameter set rejected\n"
     ]
    }
   ],
   "source": [
    "thing = sens_param(sets=25,iters=25,timeout=300,dataset=rural,paramset=linparams, start_set=24)"
   ]
  },
  {
   "cell_type": "code",
   "execution_count": 4,
   "metadata": {},
   "outputs": [],
   "source": [
    "linparams.to_csv('../ABC_estimation/final_run/linparams.csv')"
   ]
  },
  {
   "cell_type": "code",
   "execution_count": null,
   "metadata": {},
   "outputs": [],
   "source": []
  }
 ],
 "metadata": {
  "kernelspec": {
   "display_name": "Python 3",
   "language": "python",
   "name": "python3"
  },
  "language_info": {
   "codemirror_mode": {
    "name": "ipython",
    "version": 3
   },
   "file_extension": ".py",
   "mimetype": "text/x-python",
   "name": "python",
   "nbconvert_exporter": "python",
   "pygments_lexer": "ipython3",
   "version": "3.7.4"
  }
 },
 "nbformat": 4,
 "nbformat_minor": 2
}
