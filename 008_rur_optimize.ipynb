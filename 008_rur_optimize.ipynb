{
 "cells": [
  {
   "cell_type": "code",
   "execution_count": 1,
   "metadata": {
    "collapsed": false,
    "deletable": true,
    "editable": true,
    "jupyter": {
     "outputs_hidden": false
    }
   },
   "outputs": [
    {
     "name": "stdout",
     "output_type": "stream",
     "text": [
      "importing Jupyter notebook from function_log.ipynb\n"
     ]
    }
   ],
   "source": [
    "import pandas as pd\n",
    "from matplotlib import pyplot as plt\n",
    "import datetime\n",
    "%matplotlib inline\n",
    "import seaborn as sns\n",
    "sns.set()\n",
    "from matplotlib.backends.backend_pdf import PdfPages\n",
    "#from mpl_toolkits.basemap import Basemap\n",
    "import matplotlib.cm as cm\n",
    "import matplotlib.colors as col\n",
    "import matplotlib as mpl\n",
    "import numpy as np #import for transposing\n",
    "import math\n",
    "import pylab as pl\n",
    "import math\n",
    "import import_ipynb\n",
    "from sklearn.metrics import mean_squared_error,mean_absolute_error\n",
    "from function_log import add_tdate,get_week,density_interp,extract_date,qtr_comp,IC_run_sim,new_compare,stoch_model,run_sim\n",
    "\n",
    "from scipy.optimize import minimize"
   ]
  },
  {
   "cell_type": "code",
   "execution_count": 2,
   "metadata": {
    "deletable": true,
    "editable": true
   },
   "outputs": [],
   "source": [
    "def find(condition):\n",
    "    res, = np.nonzero(np.ravel(condition))\n",
    "    return res"
   ]
  },
  {
   "cell_type": "code",
   "execution_count": 3,
   "metadata": {
    "deletable": true,
    "editable": true
   },
   "outputs": [],
   "source": [
    "new_census = pd.read_csv('new_data.csv')\n",
    "new_census['Date'] = pd.to_datetime(new_census['Date'])\n",
    "new_census['ObsYear'] = new_census.Date.apply(lambda x: x.year)\n",
    "new_census['ObsMonth'] = new_census.Date.apply(lambda x:x.month)\n",
    "\n",
    "new_census.T = pd.to_numeric(new_census['T'],errors='coerce')\n",
    "new_census.J = pd.to_numeric(new_census.J)\n",
    "new_census.A = pd.to_numeric(new_census.A)\n",
    "new_census.S = pd.to_numeric(new_census.S)"
   ]
  },
  {
   "cell_type": "code",
   "execution_count": 4,
   "metadata": {
    "deletable": true,
    "editable": true
   },
   "outputs": [],
   "source": [
    "t_types = pd.read_csv('troop_types.csv')\n",
    "\n",
    "rural_troops = list(t_types.loc[t_types['Type Code'] == 0]['Troop'])\n",
    "rural = new_census.loc[new_census.Troop.isin(rural_troops)]\n",
    "\n",
    "urb_troops = list(t_types.loc[t_types['Type Code'] == 1]['Troop'])\n",
    "urb_troops.append('KUB')\n",
    "urban = new_census.loc[new_census.Troop.isin(urb_troops)]"
   ]
  },
  {
   "cell_type": "code",
   "execution_count": 5,
   "metadata": {
    "deletable": true,
    "editable": true,
    "tags": []
   },
   "outputs": [],
   "source": [
    "from __future__ import print_function\n",
    "import sys\n",
    "import threading\n",
    "from time import sleep\n",
    "try:\n",
    "    import thread\n",
    "except ImportError:\n",
    "    import _thread as thread\n",
    "\n",
    "def quit_function():\n",
    "        # print to stderr, unbuffered in Python 2.\n",
    "        print('Parameter set rejected', file=sys.stderr)\n",
    "        sys.stderr.flush() # Python 3 stderr is likely buffered.\n",
    "        thread.interrupt_main() # raises KeyboardInterrupt\n",
    "        \n",
    "\n",
    "def exit_after(s):\n",
    "    '''\n",
    "    use as decorator to exit process if \n",
    "    function takes longer than s seconds\n",
    "    '''\n",
    "    def outer(fn):\n",
    "        def inner(*args, **kwargs):\n",
    "            timer = threading.Timer(s, quit_function, args=[])\n",
    "            timer.start()\n",
    "            try:\n",
    "                result = fn(*args, **kwargs)\n",
    "            finally:\n",
    "                timer.cancel()\n",
    "            return result\n",
    "        return inner\n",
    "    return outer\n",
    "\n",
    "##Initialize timeout function\n",
    "@exit_after(600)\n",
    "def min_func(paramset):\n",
    "    \n",
    "    with open('paramset_rural.txt', 'a') as param:\n",
    "        param.write('{params}\\n'.format(params=paramset))\n",
    "\n",
    "        \n",
    "    try:    \n",
    "        ##Extract median NRMSE value from model run\n",
    "        res_df = new_compare(rural,iters=25,\n",
    "                             fusion=paramset[0],\n",
    "                             dispersal=paramset[1],\n",
    "                             b_j=paramset[2],\n",
    "                             d_j=paramset[3],\n",
    "                             d_s=paramset[4],\n",
    "                             d_a=paramset[5],\n",
    "                             t_p=paramset[6],\n",
    "                             por=paramset[7],\n",
    "                             fsr=paramset[8],\n",
    "                             ae_thresh=paramset[9],\n",
    "                             fis_thresh=paramset[10],\n",
    "                             lit_size=paramset[11],\n",
    "                             dfe='off'\n",
    "                            )\n",
    "        smape = res_df.loc[res_df.sMAPE<=100]\n",
    "        smape = smape.loc[:,'sMAPE'].dropna()\n",
    "\n",
    "        total = len(smape)\n",
    "        good = len(smape.loc[smape <= 15])\n",
    "        perc = 1-(good/total)\n",
    "        perc*=100\n",
    "        \n",
    "        print('Percent of High Error Runs: {}\\n'.format(perc))\n",
    "        with open('percenterr_rur.txt', 'a') as percenterr:\n",
    "            percenterr.write('{percents}\\n'.format(percents=perc))\n",
    "        \n",
    "        \n",
    "        return perc\n",
    "    \n",
    "    except:\n",
    "        with open('rejected_rur_params.txt', 'a') as param:\n",
    "            param.write('{time}: {params}\\n'.format(time = str(datetime.datetime.now()),params=paramset))\n",
    "        try:    \n",
    "            with open('percenterr_rur.txt','r') as f:\n",
    "                last_perc = float(f.readlines()[-1][:-2])\n",
    "\n",
    "            perc = last_perc + 1\n",
    "            \n",
    "        except:\n",
    "            perc = 1\n",
    "        \n",
    "        print('Parameter set rejected. Returned percent: {}'.format(perc))\n",
    "        \n",
    "        \n",
    "        return perc"
   ]
  },
  {
   "cell_type": "code",
   "execution_count": null,
   "metadata": {
    "collapsed": false,
    "deletable": true,
    "editable": true,
    "jupyter": {
     "outputs_hidden": false
    },
    "scrolled": true
   },
   "outputs": [
    {
     "name": "stdout",
     "output_type": "stream",
     "text": [
      "No constraints given.\n",
      "2021-07-01 16:16:00.339130 calculated new_compare\n",
      "Percent of High Error Runs: 75.60810810810811\n",
      "\n",
      "2021-07-01 16:16:54.312769 calculated new_compare\n",
      "Percent of High Error Runs: 76.13784135240572\n",
      "\n",
      "2021-07-01 16:17:51.559682 calculated new_compare\n",
      "Percent of High Error Runs: 77.67048883524441\n",
      "\n",
      "2021-07-01 16:18:41.049340 calculated new_compare\n",
      "Percent of High Error Runs: 79.00852052672347\n",
      "\n",
      "2021-07-01 16:19:31.624098 calculated new_compare\n",
      "Percent of High Error Runs: 76.11940298507463\n",
      "\n",
      "2021-07-01 16:20:23.619056 calculated new_compare\n",
      "Percent of High Error Runs: 80.20643594414086\n",
      "\n"
     ]
    }
   ],
   "source": [
    "##USE PYSWARM HERE\n",
    "from pyswarm import pso\n",
    "import warnings\n",
    "warnings.filterwarnings('ignore')\n",
    "#x0 = [0.4,0.8,0.1,0.299,0.345,0.216,0.143,0.5,0.5,0.5,0.3,0.2,0.4,4,45,4]\n",
    "\n",
    "lb = [0.05,0.05,0.254,0.278,0.136,0.034,0.00,0.01,0.15,4,38,3]\n",
    "ub = [0.10,0.70,0.344,0.412,0.296,0.252,0.10,0.10,0.80,6,68,5]\n",
    "\n",
    "xopt,fopt = pso(min_func,lb,ub,maxiter=25,minstep=0.001,debug=True,minfunc=0.001)"
   ]
  },
  {
   "cell_type": "code",
   "execution_count": null,
   "metadata": {
    "deletable": true,
    "editable": true,
    "tags": []
   },
   "outputs": [],
   "source": [
    "xopt\n",
    "with open('optimiz_rural.txt', 'a') as optimiz:\n",
    "        optimiz.write('{params}\\n'.format(params=xopt))"
   ]
  },
  {
   "cell_type": "code",
   "execution_count": null,
   "metadata": {
    "collapsed": false,
    "deletable": true,
    "editable": true,
    "jupyter": {
     "outputs_hidden": false
    }
   },
   "outputs": [],
   "source": [
    "fopt"
   ]
  },
  {
   "cell_type": "code",
   "execution_count": null,
   "metadata": {},
   "outputs": [],
   "source": [
    "'%.2f'%fopt"
   ]
  },
  {
   "cell_type": "code",
   "execution_count": null,
   "metadata": {},
   "outputs": [],
   "source": [
    "100-60.73"
   ]
  },
  {
   "cell_type": "code",
   "execution_count": null,
   "metadata": {},
   "outputs": [],
   "source": []
  }
 ],
 "metadata": {
  "kernelspec": {
   "display_name": "Python 3",
   "language": "python",
   "name": "python3"
  },
  "language_info": {
   "codemirror_mode": {
    "name": "ipython",
    "version": 3
   },
   "file_extension": ".py",
   "mimetype": "text/x-python",
   "name": "python",
   "nbconvert_exporter": "python",
   "pygments_lexer": "ipython3",
   "version": "3.8.5"
  }
 },
 "nbformat": 4,
 "nbformat_minor": 4
}
