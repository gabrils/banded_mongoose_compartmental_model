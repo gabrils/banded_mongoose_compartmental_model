{
 "cells": [
  {
   "cell_type": "code",
   "execution_count": 1,
   "metadata": {
    "collapsed": false,
    "deletable": true,
    "editable": true
   },
   "outputs": [
    {
     "name": "stdout",
     "output_type": "stream",
     "text": [
      "importing Jupyter notebook from function_log.ipynb\n"
     ]
    }
   ],
   "source": [
    "import pandas as pd\n",
    "from matplotlib import pyplot as plt\n",
    "import datetime\n",
    "%matplotlib inline\n",
    "import seaborn as sns\n",
    "sns.set()\n",
    "from matplotlib.backends.backend_pdf import PdfPages\n",
    "#from mpl_toolkits.basemap import Basemap\n",
    "import matplotlib.cm as cm\n",
    "import matplotlib.colors as col\n",
    "import matplotlib as mpl\n",
    "import numpy as np #import for transposing\n",
    "import math\n",
    "import pylab as pl\n",
    "import mpld3 as ml\n",
    "import math\n",
    "import import_ipynb\n",
    "from sklearn.metrics import mean_squared_error,mean_absolute_error\n",
    "from function_log import add_tdate,get_week,density_interp,extract_date,qtr_comp,IC_run_sim,new_compare,stoch_model,run_sim\n",
    "\n",
    "from scipy.optimize import minimize"
   ]
  },
  {
   "cell_type": "code",
   "execution_count": 2,
   "metadata": {
    "collapsed": true,
    "deletable": true,
    "editable": true
   },
   "outputs": [],
   "source": [
    "def find(condition):\n",
    "    res, = np.nonzero(np.ravel(condition))\n",
    "    return res"
   ]
  },
  {
   "cell_type": "code",
   "execution_count": 3,
   "metadata": {
    "collapsed": true,
    "deletable": true,
    "editable": true
   },
   "outputs": [],
   "source": [
    "new_census = pd.read_csv('new_census.csv')\n",
    "new_census['Date'] = pd.to_datetime(new_census['Date'])\n",
    "new_census['ObsYear'] = new_census.Date.apply(lambda x: x.year)\n",
    "new_census['ObsMonth'] = new_census.Date.apply(lambda x:x.month)\n",
    "\n",
    "new_census.T = pd.to_numeric(new_census['T'],errors='coerce')\n",
    "new_census.J = pd.to_numeric(new_census.J)\n",
    "new_census.A = pd.to_numeric(new_census.A)\n",
    "new_census.S = pd.to_numeric(new_census.S)"
   ]
  },
  {
   "cell_type": "code",
   "execution_count": 4,
   "metadata": {
    "collapsed": true,
    "deletable": true,
    "editable": true
   },
   "outputs": [],
   "source": [
    "t_types = pd.read_csv('troop_types.csv')\n",
    "\n",
    "rural_troops = list(t_types.loc[t_types['Type Code'] == 0]['Troop'])\n",
    "rural = new_census.loc[new_census.Troop.isin(rural_troops)]\n",
    "\n",
    "urb_troops = list(t_types.loc[t_types['Type Code'] == 1]['Troop'])\n",
    "urban = new_census.loc[new_census.Troop.isin(urb_troops)]"
   ]
  },
  {
   "cell_type": "code",
   "execution_count": null,
   "metadata": {
    "collapsed": true,
    "deletable": true,
    "editable": true
   },
   "outputs": [],
   "source": [
    "from __future__ import print_function\n",
    "import sys\n",
    "import threading\n",
    "from time import sleep\n",
    "try:\n",
    "    import thread\n",
    "except ImportError:\n",
    "    import _thread as thread\n",
    "\n",
    "def quit_function():\n",
    "        # print to stderr, unbuffered in Python 2.\n",
    "        print('Parameter set rejected', file=sys.stderr)\n",
    "        sys.stderr.flush() # Python 3 stderr is likely buffered.\n",
    "        thread.interrupt_main() # raises KeyboardInterrupt\n",
    "        \n",
    "\n",
    "def exit_after(s):\n",
    "    '''\n",
    "    use as decorator to exit process if \n",
    "    function takes longer than s seconds\n",
    "    '''\n",
    "    def outer(fn):\n",
    "        def inner(*args, **kwargs):\n",
    "            timer = threading.Timer(s, quit_function, args=[])\n",
    "            timer.start()\n",
    "            try:\n",
    "                result = fn(*args, **kwargs)\n",
    "            finally:\n",
    "                timer.cancel()\n",
    "            return result\n",
    "        return inner\n",
    "    return outer\n",
    "\n",
    "##Initialize timeout function\n",
    "@exit_after(300)\n",
    "def min_func(paramset):\n",
    "    print(paramset)\n",
    "    try:    \n",
    "        ##Extract median NRMSE value from model run\n",
    "        res_df = new_compare(rural,iters=25,\n",
    "                             fus_fis=paramset[0],\n",
    "                             no_ev=paramset[1],\n",
    "                             rt_chg=paramset[2],\n",
    "                             b_j=paramset[3],\n",
    "                             d_j=paramset[4],\n",
    "                             d_a=paramset[5],\n",
    "                             ae_j=paramset[6],\n",
    "                             ae_s=paramset[7],\n",
    "                             ae_a=paramset[8],\n",
    "                             t_p=paramset[9],\n",
    "                             por=paramset[10],\n",
    "                             fsr=paramset[11],\n",
    "                             thresh=paramset[12],\n",
    "                             fis_thresh=paramset[13],\n",
    "                             lit_size=paramset[14],\n",
    "                             dfe='off'\n",
    "                            )\n",
    "        smape = res_df.loc[res_df.sMAPE<=100]\n",
    "        smape = smape.loc[:,'sMAPE'].dropna()\n",
    "\n",
    "        total = len(smape)\n",
    "        good = len(smape.loc[smape <= 15])\n",
    "        perc = 1-(good/total)\n",
    "\n",
    "        return perc\n",
    "    \n",
    "    except:\n",
    "        return 5"
   ]
  },
  {
   "cell_type": "code",
   "execution_count": null,
   "metadata": {
    "collapsed": false,
    "deletable": true,
    "editable": true
   },
   "outputs": [
    {
     "name": "stdout",
     "output_type": "stream",
     "text": [
      "No constraints given.\n",
      "[  0.52646334   0.93190353   0.08254146   0.33672639   0.36750124\n",
      "   0.25102827   0.21525454   0.56566029   0.65675022   0.70110681\n",
      "   0.16349154   0.48312809   0.21801659   5.20618596  63.48687469\n",
      "   3.42019025]\n"
     ]
    },
    {
     "name": "stderr",
     "output_type": "stream",
     "text": [
      "function_log.ipynb:63: RuntimeWarning: invalid value encountered in double_scalars\n",
      "  \"outputs\": [],\n",
      "function_log.ipynb:63: RuntimeWarning: divide by zero encountered in double_scalars\n",
      "  \"outputs\": [],\n"
     ]
    },
    {
     "name": "stdout",
     "output_type": "stream",
     "text": [
      "[  0.58360796   0.82740769   0.14910157   0.33988733   0.33412962\n",
      "   0.20873931   0.07618506   0.70815268   0.58851648   0.42730269\n",
      "   0.2275241    0.4997896    0.37203743   4.51773474  67.12223234\n",
      "   4.04220283]\n",
      "[  0.20184827   0.88489302   0.29848843   0.32191444   0.34515339\n",
      "   0.27670305   0.24652185   0.46592201   0.5095421    0.7441209\n",
      "   0.31372514   0.40878107   0.33906803   5.35989731  41.89810014\n",
      "   3.00731098]\n"
     ]
    },
    {
     "name": "stderr",
     "output_type": "stream",
     "text": [
      "Parameter set rejected\n"
     ]
    }
   ],
   "source": [
    "##USE PYSWARM HERE\n",
    "from pyswarm import pso\n",
    "\n",
    "#x0 = [0.4,0.8,0.1,0.299,0.345,0.216,0.143,0.5,0.5,0.5,0.3,0.2,0.4,4,45,4]\n",
    "\n",
    "lb = [0.1,.8,.05,.254,.278,.136,.034,.1,.1,.1,.15,.1,.2,4,38,3]\n",
    "ub = [0.7,.95,.5,.344,.412,.296,.252,.8,.8,.8,.70,.6,.8,6,68,5]\n",
    "\n",
    "xopt,fopt = pso(min_func,lb,ub,maxiter=2,debug=True,minfunc=0.01)"
   ]
  },
  {
   "cell_type": "code",
   "execution_count": null,
   "metadata": {
    "collapsed": true,
    "deletable": true,
    "editable": true
   },
   "outputs": [],
   "source": [
    "xopt"
   ]
  },
  {
   "cell_type": "code",
   "execution_count": null,
   "metadata": {
    "collapsed": true,
    "deletable": true,
    "editable": true
   },
   "outputs": [],
   "source": []
  }
 ],
 "metadata": {
  "kernelspec": {
   "display_name": "Python 3",
   "language": "python",
   "name": "python3"
  },
  "language_info": {
   "codemirror_mode": {
    "name": "ipython",
    "version": 3
   },
   "file_extension": ".py",
   "mimetype": "text/x-python",
   "name": "python",
   "nbconvert_exporter": "python",
   "pygments_lexer": "ipython3",
   "version": "3.5.2"
  }
 },
 "nbformat": 4,
 "nbformat_minor": 2
}
