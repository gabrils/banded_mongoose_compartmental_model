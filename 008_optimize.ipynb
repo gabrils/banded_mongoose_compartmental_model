{
 "cells": [
  {
   "cell_type": "code",
   "execution_count": 1,
   "metadata": {
    "collapsed": false,
    "deletable": true,
    "editable": true,
    "jupyter": {
     "outputs_hidden": false
    }
   },
   "outputs": [
    {
     "name": "stdout",
     "output_type": "stream",
     "text": [
      "importing Jupyter notebook from function_log.ipynb\n"
     ]
    }
   ],
   "source": [
    "import pandas as pd\n",
    "from matplotlib import pyplot as plt\n",
    "import datetime\n",
    "%matplotlib inline\n",
    "import seaborn as sns\n",
    "sns.set()\n",
    "from matplotlib.backends.backend_pdf import PdfPages\n",
    "#from mpl_toolkits.basemap import Basemap\n",
    "import matplotlib.cm as cm\n",
    "import matplotlib.colors as col\n",
    "import matplotlib as mpl\n",
    "import numpy as np #import for transposing\n",
    "import math\n",
    "import pylab as pl\n",
    "import math\n",
    "import import_ipynb\n",
    "from sklearn.metrics import mean_squared_error,mean_absolute_error\n",
    "from function_log import add_tdate,get_week,density_interp,extract_date,qtr_comp,IC_run_sim,new_compare,stoch_model,run_sim\n",
    "\n",
    "from scipy.optimize import minimize"
   ]
  },
  {
   "cell_type": "code",
   "execution_count": 2,
   "metadata": {
    "deletable": true,
    "editable": true
   },
   "outputs": [],
   "source": [
    "def find(condition):\n",
    "    res, = np.nonzero(np.ravel(condition))\n",
    "    return res"
   ]
  },
  {
   "cell_type": "code",
   "execution_count": 3,
   "metadata": {
    "deletable": true,
    "editable": true
   },
   "outputs": [],
   "source": [
    "new_census = pd.read_csv('new_data.csv')\n",
    "new_census['Date'] = pd.to_datetime(new_census['Date'])\n",
    "new_census['ObsYear'] = new_census.Date.apply(lambda x: x.year)\n",
    "new_census['ObsMonth'] = new_census.Date.apply(lambda x:x.month)\n",
    "\n",
    "new_census.T = pd.to_numeric(new_census['T'],errors='coerce')\n",
    "new_census.J = pd.to_numeric(new_census.J)\n",
    "new_census.A = pd.to_numeric(new_census.A)\n",
    "new_census.S = pd.to_numeric(new_census.S)"
   ]
  },
  {
   "cell_type": "code",
   "execution_count": 4,
   "metadata": {
    "deletable": true,
    "editable": true
   },
   "outputs": [],
   "source": [
    "t_types = pd.read_csv('troop_types.csv')\n",
    "\n",
    "rural_troops = list(t_types.loc[t_types['Type Code'] == 0]['Troop'])\n",
    "rural = new_census.loc[new_census.Troop.isin(rural_troops)]\n",
    "\n",
    "urb_troops = list(t_types.loc[t_types['Type Code'] == 1]['Troop'])\n",
    "urb_troops.append('KUB')\n",
    "urban = new_census.loc[new_census.Troop.isin(urb_troops)]"
   ]
  },
  {
   "cell_type": "code",
   "execution_count": 5,
   "metadata": {
    "deletable": true,
    "editable": true,
    "tags": []
   },
   "outputs": [],
   "source": [
    "from __future__ import print_function\n",
    "import sys\n",
    "import threading\n",
    "from time import sleep\n",
    "try:\n",
    "    import thread\n",
    "except ImportError:\n",
    "    import _thread as thread\n",
    "\n",
    "def quit_function():\n",
    "        # print to stderr, unbuffered in Python 2.\n",
    "        print('Parameter set rejected', file=sys.stderr)\n",
    "        sys.stderr.flush() # Python 3 stderr is likely buffered.\n",
    "        thread.interrupt_main() # raises KeyboardInterrupt\n",
    "        \n",
    "\n",
    "def exit_after(s):\n",
    "    '''\n",
    "    use as decorator to exit process if \n",
    "    function takes longer than s seconds\n",
    "    '''\n",
    "    def outer(fn):\n",
    "        def inner(*args, **kwargs):\n",
    "            timer = threading.Timer(s, quit_function, args=[])\n",
    "            timer.start()\n",
    "            try:\n",
    "                result = fn(*args, **kwargs)\n",
    "            finally:\n",
    "                timer.cancel()\n",
    "            return result\n",
    "        return inner\n",
    "    return outer\n",
    "\n",
    "##Initialize timeout function\n",
    "@exit_after(120)\n",
    "def min_func(paramset):\n",
    "    \n",
    "    with open('paramset_rural.txt', 'a') as param:\n",
    "        param.write('{params}\\n'.format(params=paramset))\n",
    "\n",
    "        \n",
    "    try:    \n",
    "        ##Extract median NRMSE value from model run\n",
    "        res_df = new_compare(rural,iters=25,\n",
    "                             fusion=paramset[0],\n",
    "                             dispersal=paramset[1],\n",
    "                             b_j=paramset[2],\n",
    "                             d_j=paramset[3],\n",
    "                             d_s=paramset[4],\n",
    "                             d_a=paramset[5],\n",
    "                             t_p=paramset[6],\n",
    "                             por=paramset[7],\n",
    "                             fsr=paramset[8],\n",
    "                             ae_thresh=paramset[9],\n",
    "                             fis_thresh=paramset[10],\n",
    "                             lit_size=paramset[11],\n",
    "                             dfe='off'\n",
    "                            )\n",
    "        smape = res_df.loc[res_df.sMAPE<=100]\n",
    "        smape = smape.loc[:,'sMAPE'].dropna()\n",
    "\n",
    "        total = len(smape)\n",
    "        good = len(smape.loc[smape <= 15])\n",
    "        perc = 1-(good/total)\n",
    "        perc*=100\n",
    "        \n",
    "        print('Percent of High Error Runs: {}\\n'.format(perc))\n",
    "        with open('percenterr_rural.txt', 'a') as percenterr:\n",
    "            percenterr.write('{percents}\\n'.format(percents=perc))\n",
    "        \n",
    "        \n",
    "        return perc\n",
    "    \n",
    "    except:\n",
    "        with open('rejected_rur_params.txt', 'a') as param:\n",
    "            param.write('{time}: {params}\\n'.format(time = str(datetime.datetime.now()),params=paramset))\n",
    "        try:    \n",
    "            with open('percenterr_rural.txt','r') as f:\n",
    "                last_perc = float(f.readlines()[-1][:-2])\n",
    "\n",
    "            perc = last_perc + 1\n",
    "            \n",
    "        except:\n",
    "            perc = 1\n",
    "        \n",
    "        print('Parameter set rejected. Returned percent: {}'.format(perc))\n",
    "        \n",
    "        \n",
    "        return perc"
   ]
  },
  {
   "cell_type": "code",
   "execution_count": null,
   "metadata": {
    "collapsed": false,
    "deletable": true,
    "editable": true,
    "jupyter": {
     "outputs_hidden": false
    },
    "scrolled": true
   },
   "outputs": [
    {
     "name": "stdout",
     "output_type": "stream",
     "text": [
      "No constraints given.\n"
     ]
    },
    {
     "name": "stderr",
     "output_type": "stream",
     "text": [
      "Parameter set rejected\n"
     ]
    },
    {
     "name": "stdout",
     "output_type": "stream",
     "text": [
      "2021-03-22 17:03:40.088725 calculated new_compare\n",
      "Percent of High Error Runs: 95.61815336463224\n",
      "\n",
      "2021-03-22 17:04:19.890284 calculated new_compare\n",
      "Percent of High Error Runs: 95.74144486692016\n",
      "\n",
      "2021-03-22 17:05:01.720404 calculated new_compare\n",
      "Percent of High Error Runs: 80.0\n",
      "\n",
      "2021-03-22 17:05:43.045877 calculated new_compare\n",
      "Percent of High Error Runs: 72.6890756302521\n",
      "\n",
      "2021-03-22 17:06:22.401596 calculated new_compare\n",
      "Percent of High Error Runs: 72.80071813285458\n",
      "\n",
      "2021-03-22 17:07:02.396628 calculated new_compare\n",
      "Percent of High Error Runs: 95.22799575821846\n",
      "\n"
     ]
    },
    {
     "name": "stderr",
     "output_type": "stream",
     "text": [
      "Parameter set rejected\n"
     ]
    },
    {
     "name": "stdout",
     "output_type": "stream",
     "text": [
      "Parameter set rejected. Returned percent: 100.2279957582184\n",
      "Parameter set rejected. Returned percent: 100.2279957582184\n",
      "2021-03-22 17:12:51.306437 calculated new_compare\n",
      "Percent of High Error Runs: 96.51623119556612\n",
      "\n",
      "Parameter set rejected. Returned percent: 101.5162311955661\n"
     ]
    },
    {
     "name": "stderr",
     "output_type": "stream",
     "text": [
      "Parameter set rejected\n"
     ]
    },
    {
     "name": "stdout",
     "output_type": "stream",
     "text": [
      "Parameter set rejected. Returned percent: 101.5162311955661\n",
      "Parameter set rejected. Returned percent: 101.5162311955661\n",
      "2021-03-22 17:20:51.151061 calculated new_compare\n",
      "Percent of High Error Runs: 97.11286089238845\n",
      "\n",
      "2021-03-22 17:21:30.981557 calculated new_compare\n",
      "Percent of High Error Runs: 96.49253731343283\n",
      "\n"
     ]
    },
    {
     "name": "stderr",
     "output_type": "stream",
     "text": [
      "Parameter set rejected\n"
     ]
    },
    {
     "name": "stdout",
     "output_type": "stream",
     "text": [
      "Parameter set rejected. Returned percent: 101.4925373134328\n"
     ]
    },
    {
     "name": "stderr",
     "output_type": "stream",
     "text": [
      "Parameter set rejected\n"
     ]
    },
    {
     "name": "stdout",
     "output_type": "stream",
     "text": [
      "2021-03-22 17:27:01.900499 calculated new_compare\n",
      "Percent of High Error Runs: 75.63667232597624\n",
      "\n",
      "2021-03-22 17:27:40.110300 calculated new_compare\n",
      "Percent of High Error Runs: 96.59185369908562\n",
      "\n",
      "2021-03-22 17:28:20.307785 calculated new_compare\n",
      "Percent of High Error Runs: 95.85454545454546\n",
      "\n"
     ]
    },
    {
     "name": "stderr",
     "output_type": "stream",
     "text": [
      "Parameter set rejected\n"
     ]
    },
    {
     "name": "stdout",
     "output_type": "stream",
     "text": [
      "Parameter set rejected. Returned percent: 100.8545454545454\n",
      "2021-03-22 17:32:01.259809 calculated new_compare\n",
      "Percent of High Error Runs: 68.92307692307693\n",
      "\n",
      "2021-03-22 17:32:44.384470 calculated new_compare\n",
      "Percent of High Error Runs: 89.59156785243742\n",
      "\n",
      "2021-03-22 17:33:27.844267 calculated new_compare\n",
      "Percent of High Error Runs: 85.08771929824562\n",
      "\n"
     ]
    },
    {
     "name": "stderr",
     "output_type": "stream",
     "text": [
      "Parameter set rejected\n"
     ]
    },
    {
     "name": "stdout",
     "output_type": "stream",
     "text": [
      "Parameter set rejected. Returned percent: 90.0877192982456\n",
      "2021-03-22 17:37:23.909889 calculated new_compare\n",
      "Percent of High Error Runs: 81.30016051364366\n",
      "\n",
      "2021-03-22 17:38:06.781199 calculated new_compare\n",
      "Percent of High Error Runs: 88.39406207827261\n",
      "\n"
     ]
    },
    {
     "name": "stderr",
     "output_type": "stream",
     "text": [
      "Parameter set rejected\n"
     ]
    },
    {
     "name": "stdout",
     "output_type": "stream",
     "text": [
      "2021-03-22 17:40:43.076177 calculated new_compare\n",
      "Percent of High Error Runs: 96.58333333333333\n",
      "\n",
      "2021-03-22 17:41:24.695863 calculated new_compare\n",
      "Percent of High Error Runs: 88.42105263157895\n",
      "\n",
      "2021-03-22 17:42:03.271717 calculated new_compare\n",
      "Percent of High Error Runs: 95.75471698113208\n",
      "\n",
      "2021-03-22 17:42:40.017441 calculated new_compare\n",
      "Percent of High Error Runs: 95.0446791226645\n",
      "\n",
      "2021-03-22 17:43:20.237866 calculated new_compare\n",
      "Percent of High Error Runs: 94.18938307030129\n",
      "\n"
     ]
    },
    {
     "name": "stderr",
     "output_type": "stream",
     "text": [
      "Parameter set rejected\n"
     ]
    },
    {
     "name": "stdout",
     "output_type": "stream",
     "text": [
      "Parameter set rejected. Returned percent: 99.1893830703012\n",
      "2021-03-22 17:48:11.914731 calculated new_compare\n",
      "Percent of High Error Runs: 78.4400294334069\n",
      "\n"
     ]
    },
    {
     "name": "stderr",
     "output_type": "stream",
     "text": [
      "Parameter set rejected\n"
     ]
    },
    {
     "name": "stdout",
     "output_type": "stream",
     "text": [
      "Parameter set rejected. Returned percent: 83.440029433406\n",
      "2021-03-22 17:59:48.628346 calculated new_compare\n",
      "Percent of High Error Runs: 96.5768390386016\n",
      "\n",
      "2021-03-22 18:00:29.293584 calculated new_compare\n",
      "Percent of High Error Runs: 96.33093525179856\n",
      "\n",
      "2021-03-22 18:01:09.916938 calculated new_compare\n",
      "Percent of High Error Runs: 95.68713450292398\n",
      "\n"
     ]
    },
    {
     "name": "stderr",
     "output_type": "stream",
     "text": [
      "Parameter set rejected\n"
     ]
    },
    {
     "name": "stdout",
     "output_type": "stream",
     "text": [
      "2021-03-22 18:03:48.780020 calculated new_compare\n",
      "Percent of High Error Runs: 94.60247994164843\n",
      "\n",
      "2021-03-22 18:04:31.488825 calculated new_compare\n",
      "Percent of High Error Runs: 89.30942895086321\n",
      "\n",
      "2021-03-22 18:05:11.403039 calculated new_compare\n",
      "Percent of High Error Runs: 96.46974063400576\n",
      "\n",
      "2021-03-22 18:05:49.622846 calculated new_compare\n",
      "Percent of High Error Runs: 96.12334801762114\n",
      "\n",
      "2021-03-22 18:06:30.114549 calculated new_compare\n",
      "Percent of High Error Runs: 76.67814113597247\n",
      "\n",
      "2021-03-22 18:07:10.720916 calculated new_compare\n",
      "Percent of High Error Runs: 94.97523000707714\n",
      "\n",
      "2021-03-22 18:07:50.206337 calculated new_compare\n",
      "Percent of High Error Runs: 97.57630161579893\n",
      "\n",
      "2021-03-22 18:08:32.197033 calculated new_compare\n",
      "Percent of High Error Runs: 92.01083276912661\n",
      "\n"
     ]
    },
    {
     "name": "stderr",
     "output_type": "stream",
     "text": [
      "Parameter set rejected\n"
     ]
    },
    {
     "name": "stdout",
     "output_type": "stream",
     "text": [
      "2021-03-22 18:11:04.050859 calculated new_compare\n",
      "Percent of High Error Runs: 90.95052083333334\n",
      "\n",
      "2021-03-22 18:11:43.374685 calculated new_compare\n",
      "Percent of High Error Runs: 92.57898603967672\n",
      "\n"
     ]
    },
    {
     "name": "stderr",
     "output_type": "stream",
     "text": [
      "Parameter set rejected\n"
     ]
    },
    {
     "name": "stdout",
     "output_type": "stream",
     "text": [
      "Parameter set rejected. Returned percent: 97.5789860396767\n"
     ]
    },
    {
     "name": "stderr",
     "output_type": "stream",
     "text": [
      "Parameter set rejected\n"
     ]
    },
    {
     "name": "stdout",
     "output_type": "stream",
     "text": [
      "2021-03-22 18:16:51.694089 calculated new_compare\n",
      "Percent of High Error Runs: 96.76113360323887\n",
      "\n",
      "2021-03-22 18:17:33.598018 calculated new_compare\n",
      "Percent of High Error Runs: 89.09451421017846\n",
      "\n",
      "2021-03-22 18:18:11.074783 calculated new_compare\n",
      "Percent of High Error Runs: 96.46017699115043\n",
      "\n",
      "2021-03-22 18:18:48.495692 calculated new_compare\n",
      "Percent of High Error Runs: 95.26143790849673\n",
      "\n",
      "2021-03-22 18:19:30.974081 calculated new_compare\n",
      "Percent of High Error Runs: 92.12081418253447\n",
      "\n",
      "2021-03-22 18:20:12.333465 calculated new_compare\n",
      "Percent of High Error Runs: 96.44886363636364\n",
      "\n"
     ]
    },
    {
     "name": "stderr",
     "output_type": "stream",
     "text": [
      "Parameter set rejected\n"
     ]
    },
    {
     "name": "stdout",
     "output_type": "stream",
     "text": [
      "Parameter set rejected. Returned percent: 101.4488636363636\n"
     ]
    },
    {
     "name": "stderr",
     "output_type": "stream",
     "text": [
      "Parameter set rejected\n"
     ]
    },
    {
     "name": "stdout",
     "output_type": "stream",
     "text": [
      "Parameter set rejected. Returned percent: 101.4488636363636\n",
      "2021-03-22 18:32:45.468131 calculated new_compare\n",
      "Percent of High Error Runs: 70.3631010794897\n",
      "\n"
     ]
    },
    {
     "name": "stderr",
     "output_type": "stream",
     "text": [
      "Parameter set rejected\n"
     ]
    },
    {
     "name": "stdout",
     "output_type": "stream",
     "text": [
      "Parameter set rejected. Returned percent: 75.363101079489\n",
      "2021-03-22 18:54:42.919556 calculated new_compare\n",
      "Percent of High Error Runs: 96.11940298507463\n",
      "\n"
     ]
    },
    {
     "name": "stderr",
     "output_type": "stream",
     "text": [
      "Parameter set rejected\n"
     ]
    },
    {
     "name": "stdout",
     "output_type": "stream",
     "text": [
      "Parameter set rejected. Returned percent: 101.1194029850746\n",
      "2021-03-22 19:00:17.323141 calculated new_compare\n",
      "Percent of High Error Runs: 94.98525073746312\n",
      "\n",
      "2021-03-22 19:01:02.073483 calculated new_compare\n",
      "Percent of High Error Runs: 92.25847728726806\n",
      "\n"
     ]
    },
    {
     "name": "stderr",
     "output_type": "stream",
     "text": [
      "Parameter set rejected\n"
     ]
    },
    {
     "name": "stdout",
     "output_type": "stream",
     "text": [
      "Parameter set rejected. Returned percent: 97.258477287268\n"
     ]
    },
    {
     "name": "stderr",
     "output_type": "stream",
     "text": [
      "Parameter set rejected\n"
     ]
    },
    {
     "name": "stdout",
     "output_type": "stream",
     "text": [
      "Parameter set rejected. Returned percent: 97.258477287268\n",
      "2021-03-22 19:18:58.059777 calculated new_compare\n",
      "Percent of High Error Runs: 69.9468085106383\n",
      "\n"
     ]
    },
    {
     "name": "stderr",
     "output_type": "stream",
     "text": [
      "Parameter set rejected\n"
     ]
    },
    {
     "name": "stdout",
     "output_type": "stream",
     "text": [
      "Parameter set rejected. Returned percent: 74.946808510638\n",
      "2021-03-22 19:31:43.045887 calculated new_compare\n",
      "Percent of High Error Runs: 95.44303797468355\n",
      "\n",
      "2021-03-22 19:32:21.419223 calculated new_compare\n",
      "Percent of High Error Runs: 96.51741293532339\n",
      "\n",
      "Parameter set rejected. Returned percent: 101.5174129353233\n",
      "2021-03-22 19:34:53.002805 calculated new_compare\n",
      "Percent of High Error Runs: 96.54157468727004\n",
      "\n"
     ]
    },
    {
     "name": "stderr",
     "output_type": "stream",
     "text": [
      "Parameter set rejected\n"
     ]
    },
    {
     "name": "stdout",
     "output_type": "stream",
     "text": [
      "Parameter set rejected. Returned percent: 101.54157468727\n",
      "2021-03-22 19:38:03.266929 calculated new_compare\n",
      "Percent of High Error Runs: 93.47664936990363\n",
      "\n"
     ]
    },
    {
     "name": "stderr",
     "output_type": "stream",
     "text": [
      "Parameter set rejected\n"
     ]
    },
    {
     "name": "stdout",
     "output_type": "stream",
     "text": [
      "Parameter set rejected. Returned percent: 98.4766493699036\n",
      "2021-03-22 19:40:56.955388 calculated new_compare\n",
      "Percent of High Error Runs: 70.09433962264151\n",
      "\n",
      "Parameter set rejected. Returned percent: 75.0943396226415\n",
      "2021-03-22 19:43:20.404751 calculated new_compare\n",
      "Percent of High Error Runs: 96.50655021834062\n",
      "\n",
      "2021-03-22 19:44:02.108216 calculated new_compare\n",
      "Percent of High Error Runs: 80.71065989847716\n",
      "\n"
     ]
    },
    {
     "name": "stderr",
     "output_type": "stream",
     "text": [
      "Parameter set rejected\n"
     ]
    },
    {
     "name": "stdout",
     "output_type": "stream",
     "text": [
      "Parameter set rejected. Returned percent: 85.7106598984771\n",
      "2021-03-22 19:46:46.222281 calculated new_compare\n",
      "Percent of High Error Runs: 95.46827794561933\n",
      "\n",
      "2021-03-22 19:47:31.368531 calculated new_compare\n",
      "Percent of High Error Runs: 86.8421052631579\n",
      "\n",
      "2021-03-22 19:48:11.804387 calculated new_compare\n",
      "Percent of High Error Runs: 95.05899705014748\n",
      "\n",
      "2021-03-22 19:48:55.009800 calculated new_compare\n",
      "Percent of High Error Runs: 92.3076923076923\n",
      "\n",
      "2021-03-22 19:49:32.352950 calculated new_compare\n",
      "Percent of High Error Runs: 95.68755085435313\n",
      "\n"
     ]
    },
    {
     "name": "stderr",
     "output_type": "stream",
     "text": [
      "Parameter set rejected\n"
     ]
    },
    {
     "name": "stdout",
     "output_type": "stream",
     "text": [
      "2021-03-23 05:55:08.427588 calculated new_compare\n",
      "Percent of High Error Runs: 96.9283276450512\n",
      "\n"
     ]
    },
    {
     "name": "stderr",
     "output_type": "stream",
     "text": [
      "Parameter set rejected\n"
     ]
    },
    {
     "name": "stdout",
     "output_type": "stream",
     "text": [
      "2021-03-23 05:57:47.567974 calculated new_compare\n",
      "Percent of High Error Runs: 68.23793490460157\n",
      "\n",
      "2021-03-23 05:58:32.421981 calculated new_compare\n",
      "Percent of High Error Runs: 92.05729166666666\n",
      "\n"
     ]
    },
    {
     "name": "stderr",
     "output_type": "stream",
     "text": [
      "Parameter set rejected\n"
     ]
    },
    {
     "name": "stdout",
     "output_type": "stream",
     "text": [
      "Parameter set rejected. Returned percent: 97.0572916666666\n"
     ]
    },
    {
     "name": "stderr",
     "output_type": "stream",
     "text": [
      "Parameter set rejected\n"
     ]
    },
    {
     "name": "stdout",
     "output_type": "stream",
     "text": [
      "2021-03-23 09:47:45.409246 calculated new_compare\n",
      "Percent of High Error Runs: 96.47577092511013\n",
      "\n",
      "2021-03-23 09:48:24.999359 calculated new_compare\n",
      "Percent of High Error Runs: 96.37972646822203\n",
      "\n",
      "2021-03-23 09:49:09.147283 calculated new_compare\n",
      "Percent of High Error Runs: 87.73281952472703\n",
      "\n"
     ]
    },
    {
     "name": "stderr",
     "output_type": "stream",
     "text": [
      "Parameter set rejected\n"
     ]
    },
    {
     "name": "stdout",
     "output_type": "stream",
     "text": [
      "2021-03-23 09:51:44.492829 calculated new_compare\n",
      "Percent of High Error Runs: 89.45286750164799\n",
      "\n",
      "2021-03-23 09:52:28.038364 calculated new_compare\n",
      "Percent of High Error Runs: 80.56112224448898\n",
      "\n"
     ]
    },
    {
     "name": "stderr",
     "output_type": "stream",
     "text": [
      "Parameter set rejected\n"
     ]
    },
    {
     "name": "stdout",
     "output_type": "stream",
     "text": [
      "2021-03-23 09:55:01.237593 calculated new_compare\n",
      "Percent of High Error Runs: 94.94736842105263\n",
      "\n",
      "2021-03-23 09:55:41.127935 calculated new_compare\n",
      "Percent of High Error Runs: 96.70947030497592\n",
      "\n",
      "2021-03-23 09:56:23.938405 calculated new_compare\n",
      "Percent of High Error Runs: 84.71211118464593\n",
      "\n",
      "2021-03-23 09:57:05.700738 calculated new_compare\n",
      "Percent of High Error Runs: 96.57198824681684\n",
      "\n",
      "2021-03-23 09:57:49.014862 calculated new_compare\n",
      "Percent of High Error Runs: 73.16878980891718\n",
      "\n",
      "2021-03-23 09:58:33.018172 calculated new_compare\n",
      "Percent of High Error Runs: 80.61855670103093\n",
      "\n",
      "2021-03-23 09:59:16.877867 calculated new_compare\n",
      "Percent of High Error Runs: 83.4537097833224\n",
      "\n"
     ]
    },
    {
     "name": "stderr",
     "output_type": "stream",
     "text": [
      "Parameter set rejected\n"
     ]
    },
    {
     "name": "stdout",
     "output_type": "stream",
     "text": [
      "Parameter set rejected. Returned percent: 88.453709783322\n",
      "2021-03-23 10:02:39.660511 calculated new_compare\n",
      "Percent of High Error Runs: 96.12903225806451\n",
      "\n"
     ]
    },
    {
     "name": "stderr",
     "output_type": "stream",
     "text": [
      "Parameter set rejected\n"
     ]
    },
    {
     "name": "stdout",
     "output_type": "stream",
     "text": [
      "Parameter set rejected. Returned percent: 101.1290322580645\n",
      "2021-03-23 10:06:42.511989 calculated new_compare\n",
      "Percent of High Error Runs: 95.41284403669725\n",
      "\n",
      "2021-03-23 10:07:19.134069 calculated new_compare\n",
      "Percent of High Error Runs: 63.04093567251462\n",
      "\n",
      "New best for swarm at iteration 1: [6.13549094e-01 4.01951850e-01 6.40308663e-01 4.80880682e-01\n",
      " 4.78738484e-01 8.83124044e-02 1.00000000e-02 6.90593062e-01\n",
      " 2.62047329e-01 2.74205820e-01 6.46872482e-01 5.10352466e-01\n",
      " 4.31142233e-01 6.00000000e+00 4.54119775e+01 4.45651562e+00] 63.04093567251462\n",
      "2021-03-23 10:07:56.605821 calculated new_compare\n",
      "Percent of High Error Runs: 66.66666666666667\n",
      "\n",
      "2021-03-23 10:08:40.494465 calculated new_compare\n",
      "Percent of High Error Runs: 80.0\n",
      "\n"
     ]
    },
    {
     "name": "stderr",
     "output_type": "stream",
     "text": [
      "Parameter set rejected\n"
     ]
    },
    {
     "name": "stdout",
     "output_type": "stream",
     "text": [
      "2021-03-23 10:11:19.927056 calculated new_compare\n",
      "Percent of High Error Runs: 94.77941176470588\n",
      "\n"
     ]
    },
    {
     "name": "stderr",
     "output_type": "stream",
     "text": [
      "Parameter set rejected\n"
     ]
    },
    {
     "name": "stdout",
     "output_type": "stream",
     "text": [
      "Parameter set rejected. Returned percent: 99.7794117647058\n",
      "2021-03-23 10:14:36.725672 calculated new_compare\n",
      "Percent of High Error Runs: 67.09816612729233\n",
      "\n",
      "2021-03-23 10:15:19.335709 calculated new_compare\n",
      "Percent of High Error Runs: 93.61403508771929\n",
      "\n",
      "2021-03-23 10:15:57.022944 calculated new_compare\n",
      "Percent of High Error Runs: 70.66831683168317\n",
      "\n",
      "2021-03-23 10:16:33.377680 calculated new_compare\n",
      "Percent of High Error Runs: 61.5676359039191\n",
      "\n",
      "New best for swarm at iteration 1: [9.94543046e-01 4.73482877e-01 7.06956099e-01 3.27313178e-01\n",
      " 9.06943588e-01 5.24975764e-02 1.00000000e-02 8.06160044e-01\n",
      " 1.00000000e+00 4.72564488e-02 4.23408676e-01 6.01799050e-01\n",
      " 8.75025768e-01 5.07882047e+00 5.09179367e+01 5.00000000e+00] 61.5676359039191\n",
      "2021-03-23 10:17:12.883020 calculated new_compare\n",
      "Percent of High Error Runs: 95.10618651892891\n",
      "\n",
      "2021-03-23 10:17:53.636053 calculated new_compare\n",
      "Percent of High Error Runs: 98.25889477668433\n",
      "\n",
      "2021-03-23 10:18:34.318215 calculated new_compare\n",
      "Percent of High Error Runs: 73.9247311827957\n",
      "\n"
     ]
    },
    {
     "name": "stderr",
     "output_type": "stream",
     "text": [
      "Parameter set rejected\n"
     ]
    },
    {
     "name": "stdout",
     "output_type": "stream",
     "text": [
      "Parameter set rejected. Returned percent: 78.924731182795\n"
     ]
    },
    {
     "name": "stderr",
     "output_type": "stream",
     "text": [
      "Parameter set rejected\n"
     ]
    },
    {
     "name": "stdout",
     "output_type": "stream",
     "text": [
      "2021-03-23 10:50:39.694696 calculated new_compare\n",
      "Percent of High Error Runs: 95.74780058651027\n",
      "\n",
      "2021-03-23 10:51:22.894468 calculated new_compare\n",
      "Percent of High Error Runs: 96.74074074074073\n",
      "\n",
      "2021-03-23 10:52:02.182702 calculated new_compare\n",
      "Percent of High Error Runs: 70.46843177189409\n",
      "\n",
      "2021-03-23 10:52:42.115903 calculated new_compare\n",
      "Percent of High Error Runs: 96.31083202511775\n",
      "\n",
      "2021-03-23 10:53:24.407760 calculated new_compare\n",
      "Percent of High Error Runs: 93.91796322489392\n",
      "\n",
      "2021-03-23 10:54:02.590661 calculated new_compare\n",
      "Percent of High Error Runs: 69.81740064446831\n",
      "\n",
      "2021-03-23 10:54:45.777132 calculated new_compare\n",
      "Percent of High Error Runs: 91.76319176319177\n",
      "\n"
     ]
    },
    {
     "name": "stderr",
     "output_type": "stream",
     "text": [
      "Parameter set rejected\n"
     ]
    },
    {
     "name": "stdout",
     "output_type": "stream",
     "text": [
      "Parameter set rejected. Returned percent: 96.7631917631917\n"
     ]
    },
    {
     "name": "stderr",
     "output_type": "stream",
     "text": [
      "Parameter set rejected\n"
     ]
    },
    {
     "name": "stdout",
     "output_type": "stream",
     "text": [
      "2021-03-24 16:03:23.429170 calculated new_compare\n",
      "Percent of High Error Runs: 62.89017341040463\n",
      "\n",
      "2021-03-24 16:03:59.569514 calculated new_compare\n",
      "Percent of High Error Runs: 66.04866743916571\n",
      "\n",
      "2021-03-24 16:04:39.612412 calculated new_compare\n",
      "Percent of High Error Runs: 75.02230151650312\n",
      "\n",
      "2021-03-24 16:05:16.198568 calculated new_compare\n",
      "Percent of High Error Runs: 64.8428405122235\n",
      "\n"
     ]
    },
    {
     "name": "stderr",
     "output_type": "stream",
     "text": [
      "Parameter set rejected\n"
     ]
    },
    {
     "name": "stdout",
     "output_type": "stream",
     "text": [
      "Parameter set rejected. Returned percent: 69.842840512223\n",
      "2021-03-24 16:08:49.096301 calculated new_compare\n",
      "Percent of High Error Runs: 78.42488418266049\n",
      "\n"
     ]
    },
    {
     "name": "stderr",
     "output_type": "stream",
     "text": [
      "Parameter set rejected\n"
     ]
    },
    {
     "name": "stdout",
     "output_type": "stream",
     "text": [
      "Parameter set rejected. Returned percent: 83.4248841826604\n",
      "2021-03-24 16:19:28.810825 calculated new_compare\n",
      "Percent of High Error Runs: 95.94694178334562\n",
      "\n"
     ]
    },
    {
     "name": "stderr",
     "output_type": "stream",
     "text": [
      "Parameter set rejected\n"
     ]
    },
    {
     "name": "stdout",
     "output_type": "stream",
     "text": [
      "Parameter set rejected. Returned percent: 100.9469417833456\n"
     ]
    },
    {
     "name": "stderr",
     "output_type": "stream",
     "text": [
      "Parameter set rejected\n"
     ]
    },
    {
     "name": "stdout",
     "output_type": "stream",
     "text": [
      "Parameter set rejected. Returned percent: 100.9469417833456\n",
      "2021-03-24 16:31:58.843548 calculated new_compare\n",
      "Percent of High Error Runs: 73.34801762114537\n",
      "\n",
      "2021-03-24 16:33:13.450037 calculated new_compare\n",
      "Percent of High Error Runs: 91.74377224199289\n",
      "\n"
     ]
    },
    {
     "name": "stderr",
     "output_type": "stream",
     "text": [
      "Parameter set rejected\n"
     ]
    },
    {
     "name": "stdout",
     "output_type": "stream",
     "text": [
      "Parameter set rejected. Returned percent: 96.7437722419928\n"
     ]
    },
    {
     "name": "stderr",
     "output_type": "stream",
     "text": [
      "Parameter set rejected\n"
     ]
    },
    {
     "name": "stdout",
     "output_type": "stream",
     "text": [
      "Parameter set rejected. Returned percent: 96.7437722419928\n",
      "2021-03-24 16:56:11.467437 calculated new_compare\n",
      "Percent of High Error Runs: 91.32390745501286\n",
      "\n"
     ]
    },
    {
     "name": "stderr",
     "output_type": "stream",
     "text": [
      "Parameter set rejected\n"
     ]
    },
    {
     "name": "stdout",
     "output_type": "stream",
     "text": [
      "2021-03-24 16:58:41.203929 calculated new_compare\n",
      "Percent of High Error Runs: 96.26253418413856\n",
      "\n"
     ]
    },
    {
     "name": "stderr",
     "output_type": "stream",
     "text": [
      "Parameter set rejected\n"
     ]
    },
    {
     "name": "stdout",
     "output_type": "stream",
     "text": [
      "2021-03-24 17:01:10.056842 calculated new_compare\n",
      "Percent of High Error Runs: 97.52770673486786\n",
      "\n",
      "2021-03-24 17:01:53.552512 calculated new_compare\n",
      "Percent of High Error Runs: 93.40878828229027\n",
      "\n",
      "2021-03-24 17:02:35.805472 calculated new_compare\n",
      "Percent of High Error Runs: 92.37891737891738\n",
      "\n"
     ]
    },
    {
     "name": "stderr",
     "output_type": "stream",
     "text": [
      "Parameter set rejected\n"
     ]
    },
    {
     "name": "stdout",
     "output_type": "stream",
     "text": [
      "2021-03-28 15:12:58.704494 calculated new_compare\n",
      "Percent of High Error Runs: 96.289592760181\n",
      "\n",
      "2021-03-28 15:13:40.154919 calculated new_compare\n",
      "Percent of High Error Runs: 84.33829287392327\n",
      "\n",
      "2021-03-28 15:14:16.423938 calculated new_compare\n",
      "Percent of High Error Runs: 60.456730769230774\n",
      "\n",
      "New best for swarm at iteration 1: [1.00000000e+00 2.05051584e-01 8.74245514e-01 9.64911236e-01\n",
      " 4.27880193e-01 4.95094935e-01 1.00000000e-02 7.67552599e-01\n",
      " 1.00000000e+00 1.00000000e-02 5.09704945e-01 8.89414158e-01\n",
      " 1.60223686e-01 4.59224899e+00 5.82708333e+01 3.11604148e+00] 60.456730769230774\n",
      "2021-03-28 15:14:52.296993 calculated new_compare\n",
      "Percent of High Error Runs: 67.46463547334058\n",
      "\n",
      "2021-03-28 15:15:35.156367 calculated new_compare\n",
      "Percent of High Error Runs: 83.27495621716288\n",
      "\n"
     ]
    },
    {
     "name": "stderr",
     "output_type": "stream",
     "text": [
      "Parameter set rejected\n"
     ]
    },
    {
     "name": "stdout",
     "output_type": "stream",
     "text": [
      "2021-03-29 00:57:14.708539 calculated new_compare\n",
      "Percent of High Error Runs: 96.61016949152543\n",
      "\n",
      "2021-03-29 00:57:56.713413 calculated new_compare\n",
      "Percent of High Error Runs: 92.92221443587947\n",
      "\n",
      "2021-03-29 00:58:34.844438 calculated new_compare\n",
      "Percent of High Error Runs: 97.59665621734587\n",
      "\n"
     ]
    },
    {
     "name": "stderr",
     "output_type": "stream",
     "text": [
      "Parameter set rejected\n"
     ]
    },
    {
     "name": "stdout",
     "output_type": "stream",
     "text": [
      "2021-03-29 01:01:02.214288 calculated new_compare\n",
      "Percent of High Error Runs: 95.84599797365755\n",
      "\n",
      "2021-03-29 01:01:42.199309 calculated new_compare\n",
      "Percent of High Error Runs: 75.07163323782235\n",
      "\n",
      "2021-03-29 01:02:25.087600 calculated new_compare\n",
      "Percent of High Error Runs: 87.78248587570621\n",
      "\n",
      "2021-03-29 01:03:04.612887 calculated new_compare\n",
      "Percent of High Error Runs: 68.53448275862068\n",
      "\n"
     ]
    },
    {
     "name": "stderr",
     "output_type": "stream",
     "text": [
      "Parameter set rejected\n"
     ]
    },
    {
     "name": "stdout",
     "output_type": "stream",
     "text": [
      "Parameter set rejected. Returned percent: 73.5344827586206\n",
      "2021-03-29 12:22:34.142441 calculated new_compare\n",
      "Percent of High Error Runs: 68.48072562358276\n",
      "\n"
     ]
    },
    {
     "name": "stderr",
     "output_type": "stream",
     "text": [
      "Parameter set rejected\n"
     ]
    },
    {
     "name": "stdout",
     "output_type": "stream",
     "text": [
      "Parameter set rejected. Returned percent: 73.4807256235827\n",
      "2021-03-29 12:41:22.180004 calculated new_compare\n",
      "Percent of High Error Runs: 68.28282828282828\n",
      "\n"
     ]
    },
    {
     "name": "stderr",
     "output_type": "stream",
     "text": [
      "Parameter set rejected\n"
     ]
    },
    {
     "name": "stdout",
     "output_type": "stream",
     "text": [
      "Parameter set rejected. Returned percent: 73.2828282828282\n",
      "2021-03-29 13:15:21.745325 calculated new_compare\n",
      "Percent of High Error Runs: 96.63608562691131\n",
      "\n"
     ]
    },
    {
     "name": "stderr",
     "output_type": "stream",
     "text": [
      "Parameter set rejected\n"
     ]
    },
    {
     "name": "stdout",
     "output_type": "stream",
     "text": [
      "Parameter set rejected. Returned percent: 101.6360856269113\n"
     ]
    },
    {
     "name": "stderr",
     "output_type": "stream",
     "text": [
      "Parameter set rejected\n"
     ]
    }
   ],
   "source": [
    "##USE PYSWARM HERE\n",
    "from pyswarm import pso\n",
    "import warnings\n",
    "warnings.filterwarnings('ignore')\n",
    "#x0 = [0.4,0.8,0.1,0.299,0.345,0.216,0.143,0.5,0.5,0.5,0.3,0.2,0.4,4,45,4]\n",
    "\n",
    "lb = [0.05,0.05,0.254,0.278,0.136,0.034,0.05,0.05,0.15,4,38,3]\n",
    "ub = [0.70,0.70,0.344,0.412,0.296,0.252,0.80,0.80,0.80,6,68,5]\n",
    "\n",
    "xopt,fopt = pso(min_func,lb,ub,maxiter=25,minstep=0.001,debug=True,minfunc=0.001)"
   ]
  },
  {
   "cell_type": "code",
   "execution_count": null,
   "metadata": {
    "deletable": true,
    "editable": true,
    "tags": []
   },
   "outputs": [],
   "source": [
    "xopt\n",
    "with open('optimiz_rural.txt', 'a') as optimiz:\n",
    "        optimiz.write('{params}\\n'.format(params=xopt))"
   ]
  },
  {
   "cell_type": "code",
   "execution_count": null,
   "metadata": {
    "collapsed": false,
    "deletable": true,
    "editable": true,
    "jupyter": {
     "outputs_hidden": false
    }
   },
   "outputs": [],
   "source": [
    "fopt"
   ]
  },
  {
   "cell_type": "code",
   "execution_count": null,
   "metadata": {},
   "outputs": [],
   "source": []
  }
 ],
 "metadata": {
  "kernelspec": {
   "display_name": "Python 3",
   "language": "python",
   "name": "python3"
  },
  "language_info": {
   "codemirror_mode": {
    "name": "ipython",
    "version": 3
   },
   "file_extension": ".py",
   "mimetype": "text/x-python",
   "name": "python",
   "nbconvert_exporter": "python",
   "pygments_lexer": "ipython3",
   "version": "3.8.5"
  }
 },
 "nbformat": 4,
 "nbformat_minor": 4
}
