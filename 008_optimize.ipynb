{
 "cells": [
  {
   "cell_type": "code",
   "execution_count": 1,
   "metadata": {
    "collapsed": false,
    "deletable": true,
    "editable": true,
    "jupyter": {
     "outputs_hidden": false
    }
   },
   "outputs": [
    {
     "name": "stdout",
     "output_type": "stream",
     "text": [
      "importing Jupyter notebook from function_log.ipynb\n"
     ]
    }
   ],
   "source": [
    "import pandas as pd\n",
    "from matplotlib import pyplot as plt\n",
    "import datetime\n",
    "%matplotlib inline\n",
    "import seaborn as sns\n",
    "sns.set()\n",
    "from matplotlib.backends.backend_pdf import PdfPages\n",
    "#from mpl_toolkits.basemap import Basemap\n",
    "import matplotlib.cm as cm\n",
    "import matplotlib.colors as col\n",
    "import matplotlib as mpl\n",
    "import numpy as np #import for transposing\n",
    "import math\n",
    "import pylab as pl\n",
    "import math\n",
    "import import_ipynb\n",
    "from sklearn.metrics import mean_squared_error,mean_absolute_error\n",
    "from function_log import add_tdate,get_week,density_interp,extract_date,qtr_comp,IC_run_sim,new_compare,stoch_model,run_sim\n",
    "\n",
    "from scipy.optimize import minimize"
   ]
  },
  {
   "cell_type": "code",
   "execution_count": 2,
   "metadata": {
    "deletable": true,
    "editable": true
   },
   "outputs": [],
   "source": [
    "def find(condition):\n",
    "    res, = np.nonzero(np.ravel(condition))\n",
    "    return res"
   ]
  },
  {
   "cell_type": "code",
   "execution_count": 3,
   "metadata": {
    "deletable": true,
    "editable": true
   },
   "outputs": [],
   "source": [
    "new_census = pd.read_csv('new_data.csv')\n",
    "new_census['Date'] = pd.to_datetime(new_census['Date'])\n",
    "new_census['ObsYear'] = new_census.Date.apply(lambda x: x.year)\n",
    "new_census['ObsMonth'] = new_census.Date.apply(lambda x:x.month)\n",
    "\n",
    "new_census.T = pd.to_numeric(new_census['T'],errors='coerce')\n",
    "new_census.J = pd.to_numeric(new_census.J)\n",
    "new_census.A = pd.to_numeric(new_census.A)\n",
    "new_census.S = pd.to_numeric(new_census.S)"
   ]
  },
  {
   "cell_type": "code",
   "execution_count": 4,
   "metadata": {
    "deletable": true,
    "editable": true
   },
   "outputs": [],
   "source": [
    "t_types = pd.read_csv('troop_types.csv')\n",
    "\n",
    "rural_troops = list(t_types.loc[t_types['Type Code'] == 0]['Troop'])\n",
    "rural = new_census.loc[new_census.Troop.isin(rural_troops)]\n",
    "\n",
    "urb_troops = list(t_types.loc[t_types['Type Code'] == 1]['Troop'])\n",
    "urb_troops.append('KUB')\n",
    "urban = new_census.loc[new_census.Troop.isin(urb_troops)]"
   ]
  },
  {
   "cell_type": "code",
   "execution_count": 5,
   "metadata": {
    "deletable": true,
    "editable": true,
    "tags": []
   },
   "outputs": [],
   "source": [
    "from __future__ import print_function\n",
    "import sys\n",
    "import threading\n",
    "from time import sleep\n",
    "try:\n",
    "    import thread\n",
    "except ImportError:\n",
    "    import _thread as thread\n",
    "\n",
    "def quit_function():\n",
    "        # print to stderr, unbuffered in Python 2.\n",
    "        print('Parameter set rejected', file=sys.stderr)\n",
    "        sys.stderr.flush() # Python 3 stderr is likely buffered.\n",
    "        thread.interrupt_main() # raises KeyboardInterrupt\n",
    "        \n",
    "\n",
    "def exit_after(s):\n",
    "    '''\n",
    "    use as decorator to exit process if \n",
    "    function takes longer than s seconds\n",
    "    '''\n",
    "    def outer(fn):\n",
    "        def inner(*args, **kwargs):\n",
    "            timer = threading.Timer(s, quit_function, args=[])\n",
    "            timer.start()\n",
    "            try:\n",
    "                result = fn(*args, **kwargs)\n",
    "            finally:\n",
    "                timer.cancel()\n",
    "            return result\n",
    "        return inner\n",
    "    return outer\n",
    "\n",
    "##Initialize timeout function\n",
    "@exit_after(120)\n",
    "def min_func(paramset):\n",
    "    \n",
    "    with open('free_paramset_rural.txt', 'a') as param:\n",
    "        param.write('{params}\\n'.format(params=paramset))\n",
    "\n",
    "        \n",
    "    try:    \n",
    "        ##Extract median NRMSE value from model run\n",
    "        res_df = new_compare(rural,iters=25,\n",
    "                             fus_fis=paramset[0],\n",
    "                             no_ev=paramset[1],\n",
    "                             rt_chg=paramset[2],\n",
    "                             b_j=paramset[3],\n",
    "                             d_j=paramset[4],\n",
    "                             d_s=paramset[5],\n",
    "                             d_a=paramset[6],\n",
    "                             ae_j=paramset[7],\n",
    "                             ae_s=paramset[8],\n",
    "                             ae_a=paramset[9],\n",
    "                             t_p=paramset[10],\n",
    "                             por=paramset[11],\n",
    "                             fsr=paramset[12],\n",
    "                             thresh=paramset[13],\n",
    "                             fis_thresh=paramset[14],\n",
    "                             lit_size=paramset[15],\n",
    "                             dfe='off'\n",
    "                            )\n",
    "        smape = res_df.loc[res_df.sMAPE<=100]\n",
    "        smape = smape.loc[:,'sMAPE'].dropna()\n",
    "\n",
    "        total = len(smape)\n",
    "        good = len(smape.loc[smape <= 15])\n",
    "        perc = 1-(good/total)\n",
    "        perc*=100\n",
    "        \n",
    "        print('Percent of High Error Runs: {}\\n'.format(perc))\n",
    "        with open('free_percenterr_rural.txt', 'a') as percenterr:\n",
    "            percenterr.write('{percents}\\n'.format(percents=perc))\n",
    "        \n",
    "        \n",
    "        return perc\n",
    "    \n",
    "    except:\n",
    "        with open('rejected_rur_params.txt', 'a') as param:\n",
    "            param.write('{time}: {params}\\n'.format(time = str(datetime.datetime.now()),params=paramset))\n",
    "        try:    \n",
    "            with open('free_percenterr_rural.txt','r') as f:\n",
    "                last_perc = float(f.readlines()[-1][:-2])\n",
    "\n",
    "            perc = last_perc + 5\n",
    "            \n",
    "        except:\n",
    "            perc = 1\n",
    "        \n",
    "        print('Parameter set rejected. Returned percent: {}'.format(perc))\n",
    "        \n",
    "        \n",
    "        return perc"
   ]
  },
  {
   "cell_type": "code",
   "execution_count": null,
   "metadata": {
    "collapsed": false,
    "deletable": true,
    "editable": true,
    "jupyter": {
     "outputs_hidden": false
    },
    "scrolled": true
   },
   "outputs": [
    {
     "name": "stdout",
     "output_type": "stream",
     "text": [
      "No constraints given.\n"
     ]
    },
    {
     "name": "stderr",
     "output_type": "stream",
     "text": [
      "Parameter set rejected\n"
     ]
    },
    {
     "name": "stdout",
     "output_type": "stream",
     "text": [
      "2021-03-22 17:03:40.088725 calculated new_compare\n",
      "Percent of High Error Runs: 95.61815336463224\n",
      "\n",
      "2021-03-22 17:04:19.890284 calculated new_compare\n",
      "Percent of High Error Runs: 95.74144486692016\n",
      "\n",
      "2021-03-22 17:05:01.720404 calculated new_compare\n",
      "Percent of High Error Runs: 80.0\n",
      "\n",
      "2021-03-22 17:05:43.045877 calculated new_compare\n",
      "Percent of High Error Runs: 72.6890756302521\n",
      "\n",
      "2021-03-22 17:06:22.401596 calculated new_compare\n",
      "Percent of High Error Runs: 72.80071813285458\n",
      "\n",
      "2021-03-22 17:07:02.396628 calculated new_compare\n",
      "Percent of High Error Runs: 95.22799575821846\n",
      "\n"
     ]
    },
    {
     "name": "stderr",
     "output_type": "stream",
     "text": [
      "Parameter set rejected\n"
     ]
    },
    {
     "name": "stdout",
     "output_type": "stream",
     "text": [
      "Parameter set rejected. Returned percent: 100.2279957582184\n",
      "Parameter set rejected. Returned percent: 100.2279957582184\n",
      "2021-03-22 17:12:51.306437 calculated new_compare\n",
      "Percent of High Error Runs: 96.51623119556612\n",
      "\n",
      "Parameter set rejected. Returned percent: 101.5162311955661\n"
     ]
    },
    {
     "name": "stderr",
     "output_type": "stream",
     "text": [
      "Parameter set rejected\n"
     ]
    },
    {
     "name": "stdout",
     "output_type": "stream",
     "text": [
      "Parameter set rejected. Returned percent: 101.5162311955661\n",
      "Parameter set rejected. Returned percent: 101.5162311955661\n",
      "2021-03-22 17:20:51.151061 calculated new_compare\n",
      "Percent of High Error Runs: 97.11286089238845\n",
      "\n",
      "2021-03-22 17:21:30.981557 calculated new_compare\n",
      "Percent of High Error Runs: 96.49253731343283\n",
      "\n"
     ]
    },
    {
     "name": "stderr",
     "output_type": "stream",
     "text": [
      "Parameter set rejected\n"
     ]
    },
    {
     "name": "stdout",
     "output_type": "stream",
     "text": [
      "Parameter set rejected. Returned percent: 101.4925373134328\n"
     ]
    },
    {
     "name": "stderr",
     "output_type": "stream",
     "text": [
      "Parameter set rejected\n"
     ]
    },
    {
     "name": "stdout",
     "output_type": "stream",
     "text": [
      "2021-03-22 17:27:01.900499 calculated new_compare\n",
      "Percent of High Error Runs: 75.63667232597624\n",
      "\n",
      "2021-03-22 17:27:40.110300 calculated new_compare\n",
      "Percent of High Error Runs: 96.59185369908562\n",
      "\n",
      "2021-03-22 17:28:20.307785 calculated new_compare\n",
      "Percent of High Error Runs: 95.85454545454546\n",
      "\n"
     ]
    },
    {
     "name": "stderr",
     "output_type": "stream",
     "text": [
      "Parameter set rejected\n"
     ]
    },
    {
     "name": "stdout",
     "output_type": "stream",
     "text": [
      "Parameter set rejected. Returned percent: 100.8545454545454\n",
      "2021-03-22 17:32:01.259809 calculated new_compare\n",
      "Percent of High Error Runs: 68.92307692307693\n",
      "\n",
      "2021-03-22 17:32:44.384470 calculated new_compare\n",
      "Percent of High Error Runs: 89.59156785243742\n",
      "\n",
      "2021-03-22 17:33:27.844267 calculated new_compare\n",
      "Percent of High Error Runs: 85.08771929824562\n",
      "\n"
     ]
    },
    {
     "name": "stderr",
     "output_type": "stream",
     "text": [
      "Parameter set rejected\n"
     ]
    },
    {
     "name": "stdout",
     "output_type": "stream",
     "text": [
      "Parameter set rejected. Returned percent: 90.0877192982456\n",
      "2021-03-22 17:37:23.909889 calculated new_compare\n",
      "Percent of High Error Runs: 81.30016051364366\n",
      "\n",
      "2021-03-22 17:38:06.781199 calculated new_compare\n",
      "Percent of High Error Runs: 88.39406207827261\n",
      "\n"
     ]
    },
    {
     "name": "stderr",
     "output_type": "stream",
     "text": [
      "Parameter set rejected\n"
     ]
    },
    {
     "name": "stdout",
     "output_type": "stream",
     "text": [
      "2021-03-22 17:40:43.076177 calculated new_compare\n",
      "Percent of High Error Runs: 96.58333333333333\n",
      "\n",
      "2021-03-22 17:41:24.695863 calculated new_compare\n",
      "Percent of High Error Runs: 88.42105263157895\n",
      "\n",
      "2021-03-22 17:42:03.271717 calculated new_compare\n",
      "Percent of High Error Runs: 95.75471698113208\n",
      "\n",
      "2021-03-22 17:42:40.017441 calculated new_compare\n",
      "Percent of High Error Runs: 95.0446791226645\n",
      "\n",
      "2021-03-22 17:43:20.237866 calculated new_compare\n",
      "Percent of High Error Runs: 94.18938307030129\n",
      "\n"
     ]
    },
    {
     "name": "stderr",
     "output_type": "stream",
     "text": [
      "Parameter set rejected\n"
     ]
    },
    {
     "name": "stdout",
     "output_type": "stream",
     "text": [
      "Parameter set rejected. Returned percent: 99.1893830703012\n",
      "2021-03-22 17:48:11.914731 calculated new_compare\n",
      "Percent of High Error Runs: 78.4400294334069\n",
      "\n"
     ]
    },
    {
     "name": "stderr",
     "output_type": "stream",
     "text": [
      "Parameter set rejected\n"
     ]
    },
    {
     "name": "stdout",
     "output_type": "stream",
     "text": [
      "Parameter set rejected. Returned percent: 83.440029433406\n",
      "2021-03-22 17:59:48.628346 calculated new_compare\n",
      "Percent of High Error Runs: 96.5768390386016\n",
      "\n",
      "2021-03-22 18:00:29.293584 calculated new_compare\n",
      "Percent of High Error Runs: 96.33093525179856\n",
      "\n",
      "2021-03-22 18:01:09.916938 calculated new_compare\n",
      "Percent of High Error Runs: 95.68713450292398\n",
      "\n"
     ]
    },
    {
     "name": "stderr",
     "output_type": "stream",
     "text": [
      "Parameter set rejected\n"
     ]
    },
    {
     "name": "stdout",
     "output_type": "stream",
     "text": [
      "2021-03-22 18:03:48.780020 calculated new_compare\n",
      "Percent of High Error Runs: 94.60247994164843\n",
      "\n",
      "2021-03-22 18:04:31.488825 calculated new_compare\n",
      "Percent of High Error Runs: 89.30942895086321\n",
      "\n",
      "2021-03-22 18:05:11.403039 calculated new_compare\n",
      "Percent of High Error Runs: 96.46974063400576\n",
      "\n",
      "2021-03-22 18:05:49.622846 calculated new_compare\n",
      "Percent of High Error Runs: 96.12334801762114\n",
      "\n",
      "2021-03-22 18:06:30.114549 calculated new_compare\n",
      "Percent of High Error Runs: 76.67814113597247\n",
      "\n",
      "2021-03-22 18:07:10.720916 calculated new_compare\n",
      "Percent of High Error Runs: 94.97523000707714\n",
      "\n",
      "2021-03-22 18:07:50.206337 calculated new_compare\n",
      "Percent of High Error Runs: 97.57630161579893\n",
      "\n",
      "2021-03-22 18:08:32.197033 calculated new_compare\n",
      "Percent of High Error Runs: 92.01083276912661\n",
      "\n"
     ]
    },
    {
     "name": "stderr",
     "output_type": "stream",
     "text": [
      "Parameter set rejected\n"
     ]
    },
    {
     "name": "stdout",
     "output_type": "stream",
     "text": [
      "2021-03-22 18:11:04.050859 calculated new_compare\n",
      "Percent of High Error Runs: 90.95052083333334\n",
      "\n",
      "2021-03-22 18:11:43.374685 calculated new_compare\n",
      "Percent of High Error Runs: 92.57898603967672\n",
      "\n"
     ]
    },
    {
     "name": "stderr",
     "output_type": "stream",
     "text": [
      "Parameter set rejected\n"
     ]
    },
    {
     "name": "stdout",
     "output_type": "stream",
     "text": [
      "Parameter set rejected. Returned percent: 97.5789860396767\n"
     ]
    },
    {
     "name": "stderr",
     "output_type": "stream",
     "text": [
      "Parameter set rejected\n"
     ]
    },
    {
     "name": "stdout",
     "output_type": "stream",
     "text": [
      "2021-03-22 18:16:51.694089 calculated new_compare\n",
      "Percent of High Error Runs: 96.76113360323887\n",
      "\n",
      "2021-03-22 18:17:33.598018 calculated new_compare\n",
      "Percent of High Error Runs: 89.09451421017846\n",
      "\n",
      "2021-03-22 18:18:11.074783 calculated new_compare\n",
      "Percent of High Error Runs: 96.46017699115043\n",
      "\n",
      "2021-03-22 18:18:48.495692 calculated new_compare\n",
      "Percent of High Error Runs: 95.26143790849673\n",
      "\n",
      "2021-03-22 18:19:30.974081 calculated new_compare\n",
      "Percent of High Error Runs: 92.12081418253447\n",
      "\n",
      "2021-03-22 18:20:12.333465 calculated new_compare\n",
      "Percent of High Error Runs: 96.44886363636364\n",
      "\n"
     ]
    },
    {
     "name": "stderr",
     "output_type": "stream",
     "text": [
      "Parameter set rejected\n"
     ]
    },
    {
     "name": "stdout",
     "output_type": "stream",
     "text": [
      "Parameter set rejected. Returned percent: 101.4488636363636\n"
     ]
    },
    {
     "name": "stderr",
     "output_type": "stream",
     "text": [
      "Parameter set rejected\n"
     ]
    },
    {
     "name": "stdout",
     "output_type": "stream",
     "text": [
      "Parameter set rejected. Returned percent: 101.4488636363636\n",
      "2021-03-22 18:32:45.468131 calculated new_compare\n",
      "Percent of High Error Runs: 70.3631010794897\n",
      "\n"
     ]
    },
    {
     "name": "stderr",
     "output_type": "stream",
     "text": [
      "Parameter set rejected\n"
     ]
    },
    {
     "name": "stdout",
     "output_type": "stream",
     "text": [
      "Parameter set rejected. Returned percent: 75.363101079489\n",
      "2021-03-22 18:54:42.919556 calculated new_compare\n",
      "Percent of High Error Runs: 96.11940298507463\n",
      "\n"
     ]
    },
    {
     "name": "stderr",
     "output_type": "stream",
     "text": [
      "Parameter set rejected\n"
     ]
    },
    {
     "name": "stdout",
     "output_type": "stream",
     "text": [
      "Parameter set rejected. Returned percent: 101.1194029850746\n",
      "2021-03-22 19:00:17.323141 calculated new_compare\n",
      "Percent of High Error Runs: 94.98525073746312\n",
      "\n",
      "2021-03-22 19:01:02.073483 calculated new_compare\n",
      "Percent of High Error Runs: 92.25847728726806\n",
      "\n"
     ]
    },
    {
     "name": "stderr",
     "output_type": "stream",
     "text": [
      "Parameter set rejected\n"
     ]
    },
    {
     "name": "stdout",
     "output_type": "stream",
     "text": [
      "Parameter set rejected. Returned percent: 97.258477287268\n"
     ]
    },
    {
     "name": "stderr",
     "output_type": "stream",
     "text": [
      "Parameter set rejected\n"
     ]
    },
    {
     "name": "stdout",
     "output_type": "stream",
     "text": [
      "Parameter set rejected. Returned percent: 97.258477287268\n"
     ]
    }
   ],
   "source": [
    "##USE PYSWARM HERE\n",
    "from pyswarm import pso\n",
    "import warnings\n",
    "warnings.filterwarnings('ignore')\n",
    "#x0 = [0.4,0.8,0.1,0.299,0.345,0.216,0.143,0.5,0.5,0.5,0.3,0.2,0.4,4,45,4]\n",
    "\n",
    "lb = [0.01,0.01,0.01,0.01,0.01,0.01,0.01,0.01,0.01,0.01,0.01,0.01,0.01,4,38,3]\n",
    "ub = [1.00,1.00,1.00,1.00,1.00,1.00,1.00,1.00,1.00,1.00,1.00,1.00,1.00,6,68,5]\n",
    "\n",
    "xopt,fopt = pso(min_func,lb,ub,maxiter=25,minstep=0.001,debug=True,minfunc=0.001)"
   ]
  },
  {
   "cell_type": "code",
   "execution_count": null,
   "metadata": {
    "deletable": true,
    "editable": true,
    "tags": []
   },
   "outputs": [],
   "source": [
    "xopt\n",
    "with open('free_optimiz_rural1.txt', 'a') as optimiz:\n",
    "        optimiz.write('{params}\\n'.format(params=xopt))"
   ]
  },
  {
   "cell_type": "code",
   "execution_count": null,
   "metadata": {
    "collapsed": false,
    "deletable": true,
    "editable": true,
    "jupyter": {
     "outputs_hidden": false
    }
   },
   "outputs": [],
   "source": [
    "fopt"
   ]
  },
  {
   "cell_type": "code",
   "execution_count": null,
   "metadata": {},
   "outputs": [],
   "source": []
  }
 ],
 "metadata": {
  "kernelspec": {
   "display_name": "Python 3",
   "language": "python",
   "name": "python3"
  },
  "language_info": {
   "codemirror_mode": {
    "name": "ipython",
    "version": 3
   },
   "file_extension": ".py",
   "mimetype": "text/x-python",
   "name": "python",
   "nbconvert_exporter": "python",
   "pygments_lexer": "ipython3",
   "version": "3.8.5"
  }
 },
 "nbformat": 4,
 "nbformat_minor": 4
}
