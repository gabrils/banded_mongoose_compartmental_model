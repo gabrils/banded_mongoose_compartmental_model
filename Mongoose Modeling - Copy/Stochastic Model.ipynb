{
 "cells": [
  {
   "cell_type": "code",
   "execution_count": 2,
   "metadata": {
    "collapsed": false,
    "deletable": true,
    "editable": true
   },
   "outputs": [
    {
     "ename": "ImportError",
     "evalue": "No module named 'gillespy'",
     "output_type": "error",
     "traceback": [
      "\u001b[1;31m---------------------------------------------------------------------------\u001b[0m",
      "\u001b[1;31mImportError\u001b[0m                               Traceback (most recent call last)",
      "\u001b[1;32m<ipython-input-2-1ff6260f7ad6>\u001b[0m in \u001b[0;36m<module>\u001b[1;34m()\u001b[0m\n\u001b[1;32m----> 1\u001b[1;33m \u001b[1;32mimport\u001b[0m \u001b[0mgillespy\u001b[0m\u001b[1;33m\u001b[0m\u001b[0m\n\u001b[0m\u001b[0;32m      2\u001b[0m \u001b[1;33m\u001b[0m\u001b[0m\n\u001b[0;32m      3\u001b[0m \u001b[1;32mimport\u001b[0m \u001b[0mpandas\u001b[0m \u001b[1;32mas\u001b[0m \u001b[0mpd\u001b[0m\u001b[1;33m\u001b[0m\u001b[0m\n\u001b[0;32m      4\u001b[0m \u001b[1;32mfrom\u001b[0m \u001b[0mmatplotlib\u001b[0m \u001b[1;32mimport\u001b[0m \u001b[0mpyplot\u001b[0m \u001b[1;32mas\u001b[0m \u001b[0mplt\u001b[0m\u001b[1;33m\u001b[0m\u001b[0m\n\u001b[0;32m      5\u001b[0m \u001b[1;32mfrom\u001b[0m \u001b[0mdatetime\u001b[0m \u001b[1;32mimport\u001b[0m \u001b[0mdatetime\u001b[0m\u001b[1;33m\u001b[0m\u001b[0m\n",
      "\u001b[1;31mImportError\u001b[0m: No module named 'gillespy'"
     ]
    }
   ],
   "source": [
    "import gillespy\n",
    "\n",
    "import pandas as pd\n",
    "from matplotlib import pyplot as plt\n",
    "from datetime import datetime\n",
    "import numpy as np"
   ]
  },
  {
   "cell_type": "code",
   "execution_count": 2,
   "metadata": {
    "collapsed": false,
    "deletable": true,
    "editable": true
   },
   "outputs": [
    {
     "data": {
      "text/plain": [
       "[<gillespy.gillespy.Parameter instance at 0x7f96e8a2d560>,\n",
       " <gillespy.gillespy.Parameter instance at 0x7f96e8a2d5f0>,\n",
       " <gillespy.gillespy.Parameter instance at 0x7f96e8a2d638>,\n",
       " <gillespy.gillespy.Parameter instance at 0x7f96e8a2d680>,\n",
       " <gillespy.gillespy.Parameter instance at 0x7f96e8a2d6c8>,\n",
       " <gillespy.gillespy.Parameter instance at 0x7f96e8a2d710>,\n",
       " <gillespy.gillespy.Parameter instance at 0x7f96e8a2d758>]"
      ]
     },
     "execution_count": 2,
     "metadata": {},
     "output_type": "execute_result"
    }
   ],
   "source": [
    "#Create model object\n",
    "stoch_model = gillespy.gillespy.Model(name = 'mong_model',population = True, volume = 1)\n",
    "\n",
    "#Now add parameters\n",
    "param_list = ['b','b_d','s_p','s_j','s_s','s_a','s_s2']\n",
    "param_val = [(3.6)/4, (0.07)/4, 1 - (0.25*0.701), 1 - (0.25*0.345), 1 - (0.25*0.216), 1 - (0.25*0.143),0.5*(1 - (0.25*0.216))]\n",
    "params = []\n",
    "\n",
    "for i in range(len(param_list)):\n",
    "    params.append(gillespy.gillespy.Parameter(name = param_list[i], expression = param_val[i], value = param_val[i]))\n",
    "\n",
    "stoch_model.add_parameter(params)"
   ]
  },
  {
   "cell_type": "code",
   "execution_count": 3,
   "metadata": {
    "collapsed": false,
    "deletable": true,
    "editable": true
   },
   "outputs": [
    {
     "data": {
      "text/plain": [
       "[<gillespy.gillespy.Species instance at 0x7f96e8a47128>,\n",
       " <gillespy.gillespy.Species instance at 0x7f96e8a470e0>,\n",
       " <gillespy.gillespy.Species instance at 0x7f96e8a47098>,\n",
       " <gillespy.gillespy.Species instance at 0x7f96e8a47170>,\n",
       " <gillespy.gillespy.Species instance at 0x7f96e8a47050>,\n",
       " <gillespy.gillespy.Species instance at 0x7f96e8a471b8>]"
      ]
     },
     "execution_count": 3,
     "metadata": {},
     "output_type": "execute_result"
    }
   ],
   "source": [
    "#Now build species = age classes\n",
    "age_list = ['P','J','S1','S2','A','B']\n",
    "age_IV = [15,5,6,6,15,7]\n",
    "\n",
    "P = gillespy.gillespy.Species(name = 'P',initial_value = 15)\n",
    "J = gillespy.gillespy.Species(name = 'J' ,initial_value = 5)\n",
    "S1 = gillespy.gillespy.Species(name = 'S1',initial_value = 6)\n",
    "S2 = gillespy.gillespy.Species(name = 'S2',initial_value = 6)\n",
    "A = gillespy.gillespy.Species(name = 'A',initial_value = 15)\n",
    "B = gillespy.gillespy.Species(name = 'B',initial_value = 7)\n",
    "\n",
    "stoch_model.add_species([P,J,S1,S2,A,B])"
   ]
  },
  {
   "cell_type": "code",
   "execution_count": 4,
   "metadata": {
    "collapsed": true,
    "deletable": true,
    "editable": true
   },
   "outputs": [],
   "source": [
    "#Now build reactions = ODEs\n",
    "rx_list = []\n",
    "\n",
    "rx_list.append(gillespy.gillespy.Reaction(name = 'pup_pop', reactants = {B:1}, products = {P:1},rate = stoch_model.get_parameter('b'),massaction = True))\n",
    "rx_list.append(gillespy.gillespy.Reaction(name = 'juv_pop', reactants = {P:1}, products = {J:1},rate = stoch_model.get_parameter('s_p'),massaction = True))\n",
    "rx_list.append(gillespy.gillespy.Reaction(name = 'sub1_pop', reactants = {J:1}, products = {S1:1},rate = stoch_model.get_parameter('s_j'),massaction = True))\n",
    "rx_list.append(gillespy.gillespy.Reaction(name = 'sub2_pop', reactants = {S1:1}, products = {S2:1},rate = stoch_model.get_parameter('s_s'),massaction = True))\n",
    "rx_list.append(gillespy.gillespy.Reaction(name = 'ad_sub2_pop', reactants = {S2:1}, products = {A:1},rate = stoch_model.get_parameter('s_s'),massaction = True))\n",
    "rx_list.append(gillespy.gillespy.Reaction(name = 'ad_pop', reactants = {A:1}, products = {},rate = stoch_model.get_parameter('s_a'),massaction = True))\n",
    "rx_list.append(gillespy.gillespy.Reaction(name = 'breed_sub2_pop', reactants = {S2:1}, products = {B:1},rate = stoch_model.get_parameter('s_s2'),massaction = True))\n",
    "rx_list.append(gillespy.gillespy.Reaction(name = 'breed_sub2_pop', reactants = {A:1}, products = {B:1},rate = stoch_model.get_parameter('s_a'),massaction = True))\n",
    "\n",
    "stoch_model.add_reaction(rx_list)\n",
    "stoch_model.timespan(np.linspace(0,60,61))"
   ]
  },
  {
   "cell_type": "code",
   "execution_count": 5,
   "metadata": {
    "collapsed": true,
    "deletable": true,
    "editable": true
   },
   "outputs": [],
   "source": [
    "##Look into deep learning/machine learning courses\n",
    "\n",
    "#stoch_traj = stoch_model.run(show_labels=False,solver='tau_leaping')\n",
    "\n",
    "stoch_traj = gillespy.gillespy.GillesPySolver()"
   ]
  },
  {
   "cell_type": "code",
   "execution_count": 8,
   "metadata": {
    "collapsed": true,
    "deletable": true,
    "editable": true
   },
   "outputs": [],
   "source": [
    "stoch_traj.model = stoch_model\n",
    "stoch_traj.t = 60\n",
    "stoch_traj.number_of_trajectories = 1\n",
    "stoch_traj.algorithm = 'ssa'\n",
    "#stoch_traj.stochkit_home = '$ome/Gabs/StochKit'"
   ]
  },
  {
   "cell_type": "code",
   "execution_count": 9,
   "metadata": {
    "collapsed": false,
    "deletable": true,
    "editable": true
   },
   "outputs": [
    {
     "ename": "SimuliationError",
     "evalue": "Solver execution failed:             '/bin/ssa --model /tmp/tmp7ZXnEc/temp_input_c5f35813-57a5-4994-9589-762982db5615.xml --out-dir /tmp/tmp7ZXnEc/output/c5f35813-57a5-4994-9589-762982db5615 -t 20 -i 400 ' output: /bin/ssa: line 17: /bin/bin/ssa: No such file or directory\n",
     "output_type": "error",
     "traceback": [
      "\u001b[0;31m---------------------------------------------------------------------------\u001b[0m",
      "\u001b[0;31mSimuliationError\u001b[0m                          Traceback (most recent call last)",
      "\u001b[0;32m<ipython-input-9-081ad297ed47>\u001b[0m in \u001b[0;36m<module>\u001b[0;34m()\u001b[0m\n\u001b[0;32m----> 1\u001b[0;31m \u001b[0mstoch_traj\u001b[0m\u001b[0;34m.\u001b[0m\u001b[0mrun\u001b[0m\u001b[0;34m(\u001b[0m\u001b[0mmodel\u001b[0m \u001b[0;34m=\u001b[0m \u001b[0mstoch_traj\u001b[0m\u001b[0;34m.\u001b[0m\u001b[0mmodel\u001b[0m\u001b[0;34m,\u001b[0m\u001b[0mshow_labels\u001b[0m \u001b[0;34m=\u001b[0m \u001b[0mTrue\u001b[0m\u001b[0;34m,\u001b[0m\u001b[0malgorithm\u001b[0m \u001b[0;34m=\u001b[0m \u001b[0;34m'ssa'\u001b[0m\u001b[0;34m)\u001b[0m\u001b[0;34m\u001b[0m\u001b[0m\n\u001b[0m",
      "\u001b[0;32m/usr/local/lib/python2.7/dist-packages/gillespy/gillespy.pyc\u001b[0m in \u001b[0;36mrun\u001b[0;34m(self, model, t, number_of_trajectories, increment, seed, stochkit_home, algorithm, job_id, extra_args, debug, show_labels)\u001b[0m\n\u001b[1;32m   1219\u001b[0m             \u001b[0;31m#print stderr\u001b[0m\u001b[0;34m\u001b[0m\u001b[0;34m\u001b[0m\u001b[0m\n\u001b[1;32m   1220\u001b[0m             raise SimuliationError(\"Solver execution failed: \\\n\u001b[0;32m-> 1221\u001b[0;31m             '{0}' output: {1}{2}\".format(cmd,stdout,stderr))\n\u001b[0m\u001b[1;32m   1222\u001b[0m \u001b[0;34m\u001b[0m\u001b[0m\n\u001b[1;32m   1223\u001b[0m         \u001b[0;31m# Get data using solver specific function\u001b[0m\u001b[0;34m\u001b[0m\u001b[0;34m\u001b[0m\u001b[0m\n",
      "\u001b[0;31mSimuliationError\u001b[0m: Solver execution failed:             '/bin/ssa --model /tmp/tmp7ZXnEc/temp_input_c5f35813-57a5-4994-9589-762982db5615.xml --out-dir /tmp/tmp7ZXnEc/output/c5f35813-57a5-4994-9589-762982db5615 -t 20 -i 400 ' output: /bin/ssa: line 17: /bin/bin/ssa: No such file or directory\n"
     ]
    }
   ],
   "source": [
    "stoch_traj.run(model = stoch_traj.model,show_labels = True,algorithm = 'ssa')"
   ]
  },
  {
   "cell_type": "code",
   "execution_count": null,
   "metadata": {
    "collapsed": true,
    "deletable": true,
    "editable": true
   },
   "outputs": [],
   "source": []
  }
 ],
 "metadata": {
  "kernelspec": {
   "display_name": "Python 3",
   "language": "python",
   "name": "python3"
  },
  "language_info": {
   "codemirror_mode": {
    "name": "ipython",
    "version": 3
   },
   "file_extension": ".py",
   "mimetype": "text/x-python",
   "name": "python",
   "nbconvert_exporter": "python",
   "pygments_lexer": "ipython3",
   "version": "3.5.2"
  }
 },
 "nbformat": 4,
 "nbformat_minor": 2
}
