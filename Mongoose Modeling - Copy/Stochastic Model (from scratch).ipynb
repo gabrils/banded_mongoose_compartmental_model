{
 "cells": [
  {
   "cell_type": "code",
   "execution_count": 1,
   "metadata": {
    "collapsed": true,
    "deletable": true,
    "editable": true
   },
   "outputs": [],
   "source": [
    "##NOTE: This notebook will run properly ONLY on PYTHON 3 KERNEL\n",
    "\n",
    "import pandas as pd\n",
    "from matplotlib import pyplot as plt\n",
    "from datetime import datetime\n",
    "%matplotlib inline\n",
    "import seaborn as sns\n",
    "sns.set()\n",
    "from matplotlib.backends.backend_pdf import PdfPages\n",
    "#from mpl_toolkits.basemap import Basemap\n",
    "import matplotlib.cm as cm\n",
    "import matplotlib.colors as col\n",
    "import matplotlib as mpl\n",
    "import numpy as np #import for transposing\n",
    "import math"
   ]
  },
  {
   "cell_type": "code",
   "execution_count": 2,
   "metadata": {
    "collapsed": true,
    "deletable": true,
    "editable": true
   },
   "outputs": [],
   "source": [
    "##Be sure to test these models with numbers (troop sizes/age distribution) from observation data\n",
    "\n",
    "total_gen = 4*60 ##16 generations = 4 years  <=> 4x generations = x years\n",
    "\n",
    "##Initialize population vectors\n",
    "P = [0]*total_gen\n",
    "J = [0]*total_gen\n",
    "S1 = [0]*total_gen\n",
    "S2 = [0]*total_gen\n",
    "A = [0]*total_gen\n",
    "R = [0]*total_gen\n",
    "T = [0]*total_gen\n",
    "\n",
    "\n",
    "##Enter parameter values\n",
    "b = (3.6)/4\n",
    "b_d = (0.07)/4\n",
    "s_p = 1 - (0.25*0.701)\n",
    "s_j = 1 - (0.25*0.345)\n",
    "s_s = 1 - (0.25*0.216)\n",
    "s_a = 1 - (0.25*0.143)\n",
    "\n",
    "parameter_list = [b,b_d,s_p,s_j,s_s,s_a]\n",
    "string_list = ['b','b_d','s_p','s_j','s_s','s_a']\n",
    "\n",
    "##Initial conditions\n",
    "P[0] = 15\n",
    "J[0] = 5\n",
    "S1[0] = 6\n",
    "S2[0] = 6\n",
    "A[0] = 15\n",
    "R[0] = 7\n",
    "T[0] = P[0]+J[0]+S1[0]+S2[0]+A[0]+R[0]\n",
    "\n",
    "IC_list = [P[0],J[0],S1[0],S2[0],A[0],R[0],T[0]]\n",
    "IC_str = ['P0','J0','S10','S20','A0','R0','T0']\n",
    "\n",
    "#############################################################\n",
    "##Identifying the wet/dry seasons\n",
    "wet_seas1 = []\n",
    "wet_seas2 = []\n",
    "\n",
    "for i in range(total_gen):\n",
    "    if i == 0:\n",
    "        wet_seas1.append(1)\n",
    "        wet_seas2.append(2)\n",
    "    else:\n",
    "        wet_seas1.append(wet_seas1[i-1]+4)\n",
    "        wet_seas2.append(wet_seas2[i-1]+4)\n",
    "        \n",
    "wet_seas = wet_seas1 + wet_seas2\n",
    "##############################################################"
   ]
  },
  {
   "cell_type": "code",
   "execution_count": null,
   "metadata": {
    "collapsed": true,
    "deletable": true,
    "editable": true
   },
   "outputs": [],
   "source": [
    "##Pup Probability matrix\n",
    "##pup_max needs to be informed by mongoosing unwritten rule\n",
    "#########\n",
    "\n",
    "pup_max = 75\n",
    "\n",
    "########\n",
    "\n",
    "pup_prob = np.zeros(shape = (pup_max,4))\n",
    "\n",
    "for i in range(pup_max):\n",
    "    pup_prob[i,1] = 0\n",
    "    pup_prob[i,2] = \n",
    "    pup_prob[i,3] = \n",
    "    pup_prob[i,4] = 1\n",
    "        \n"
   ]
  },
  {
   "cell_type": "code",
   "execution_count": null,
   "metadata": {
    "collapsed": true
   },
   "outputs": [],
   "source": [
    "##Juvenile probability matrx\n",
    "\n",
    "juv_max = 50\n",
    "\n",
    "for i in range(juv_max):\n",
    "    juv_prob[i,1] = 0\n",
    "    juv_prob[i,2] = \n",
    "    juv_prob[i,3] = \n",
    "    juv_prob[i,4] = 1"
   ]
  }
 ],
 "metadata": {
  "kernelspec": {
   "display_name": "Python 3",
   "language": "python",
   "name": "python3"
  },
  "language_info": {
   "codemirror_mode": {
    "name": "ipython",
    "version": 3
   },
   "file_extension": ".py",
   "mimetype": "text/x-python",
   "name": "python",
   "nbconvert_exporter": "python",
   "pygments_lexer": "ipython3",
   "version": "3.5.2"
  }
 },
 "nbformat": 4,
 "nbformat_minor": 2
}
