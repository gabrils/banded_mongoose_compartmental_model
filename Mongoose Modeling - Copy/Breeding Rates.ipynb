{
 "cells": [
  {
   "cell_type": "code",
   "execution_count": 1,
   "metadata": {
    "collapsed": true
   },
   "outputs": [],
   "source": [
    "##NOTE: This notebook will run properly ONLY on PYTHON 3 KERNEL\n",
    "\n",
    "import pandas as pd\n",
    "from matplotlib import pyplot as plt\n",
    "from datetime import datetime\n",
    "%matplotlib inline\n",
    "import seaborn as sns\n",
    "sns.set()\n",
    "from matplotlib.backends.backend_pdf import PdfPages\n",
    "#from mpl_toolkits.basemap import Basemap\n",
    "import matplotlib.cm as cm\n",
    "import matplotlib.colors as col\n",
    "import matplotlib as mpl\n",
    "import numpy as np #import for transposing\n",
    "import math"
   ]
  },
  {
   "cell_type": "code",
   "execution_count": 2,
   "metadata": {
    "collapsed": false
   },
   "outputs": [
    {
     "data": {
      "text/plain": [
       "Index(['Instance', 'Observation ID', 'Date', 'Time', 'Troop', 'Observers',\n",
       "       'Location', 'Latitude ', 'Longitude', 'Rain Type', 'Land Use',\n",
       "       'Temperature', 'Cloud Cover', 'Wind', 'Wilderness', 'Den Type',\n",
       "       'Park Habitat', 'Troop Number', 'Complete Count?', 'Group Spread',\n",
       "       'Number juveniles/ Sub-Adults', '# Pups', '# Pregnant',\n",
       "       'Pregnant third', 'Identifiable Individuals', 'Number sick',\n",
       "       'Illness Rank', 'Description of Signs', 'Number injured',\n",
       "       'Description of Injuries', 'Feces', '# Feces', 'Urine',\n",
       "       'Anal Gland Secr.', 'Comments', 'Mix', 'Troop Name', 'Split',\n",
       "       'Columna1', 'Columna2', 'Columna3', 'AM/PM', 'Time up', 'Not seen',\n",
       "       'Columna4'],\n",
       "      dtype='object')"
      ]
     },
     "execution_count": 2,
     "metadata": {},
     "output_type": "execute_result"
    }
   ],
   "source": [
    "pup_df = pd.read_csv('../Mongoose Modeling/Updated Census.csv', infer_datetime_format = True)\n",
    "\n",
    "#pup_df[\"Date\"] = pup_df.Date.apply(lambda: x, datetime.strptime(x,'%d-%b-%Y'))\n",
    "\n",
    "pup_df = pup_df.drop(0)\n",
    "pup_df = pup_df.rename(columns = {'Unnamed: 0': 'Instance'})\n",
    "pup_df[\"Date\"] = pd.to_datetime(pup_df[\"Date\"])\n",
    "pup_df.columns"
   ]
  },
  {
   "cell_type": "code",
   "execution_count": 3,
   "metadata": {
    "collapsed": false
   },
   "outputs": [
    {
     "data": {
      "text/plain": [
       "array(['M9/7', '2390', '1', '2', '4', '8 to 9', '7-Jan', '14', '17', '12',\n",
       "       '11', '20', '22', '21', '16', '7', '15', '9', '5', '6', 'Yes', '3',\n",
       "       '13', '23', '34', 'LOTS', '19', '8', '10'], dtype=object)"
      ]
     },
     "execution_count": 3,
     "metadata": {},
     "output_type": "execute_result"
    }
   ],
   "source": [
    "pups = pup_df[pup_df[\"# Pups\"].isnull() == False]\n",
    "pups = pups[pups[\"Troop Number\"].isnull() == False]\n",
    "pups[\"# Pups\"].unique()"
   ]
  },
  {
   "cell_type": "code",
   "execution_count": 4,
   "metadata": {
    "collapsed": false
   },
   "outputs": [
    {
     "data": {
      "text/plain": [
       "array(['1', '8', '15', '10', '34', '44', '20', '23', '30', '27', '17',\n",
       "       '11', '22', '21', '29', '41', '45', '40', '16', '25', '14+9', '7+1',\n",
       "       '9+2', '30+5', '20+7', '12+7', '12+6', '8+3', '56', '26', '67',\n",
       "       '18', '28', '39', '3', '9', '13', '32', '6', '24', '14', '12', '19',\n",
       "       '7', '35', '50', '53', '33', '5'], dtype=object)"
      ]
     },
     "execution_count": 4,
     "metadata": {},
     "output_type": "execute_result"
    }
   ],
   "source": [
    "pups[\"Troop Number\"].unique()"
   ]
  },
  {
   "cell_type": "code",
   "execution_count": 5,
   "metadata": {
    "collapsed": false
   },
   "outputs": [
    {
     "data": {
      "text/plain": [
       "(166, 45)"
      ]
     },
     "execution_count": 5,
     "metadata": {},
     "output_type": "execute_result"
    }
   ],
   "source": [
    "pups.shape"
   ]
  },
  {
   "cell_type": "code",
   "execution_count": 6,
   "metadata": {
    "collapsed": false
   },
   "outputs": [
    {
     "data": {
      "text/plain": [
       "(164, 45)"
      ]
     },
     "execution_count": 6,
     "metadata": {},
     "output_type": "execute_result"
    }
   ],
   "source": [
    "#Fixing clerical errors\n",
    "pups.loc[117,'# Pups'] = 9 \n",
    "pups.loc[123,'# Pups'] = 7\n",
    "pups.loc[306,'# Pups'] = 6\n",
    "pups.loc[307,'# Pups'] = 6\n",
    "pups = pups.drop([2,14,649])\n",
    "pups[\"# Pups\"] = pd.to_numeric(pups[\"# Pups\"])\n",
    "\n",
    "\n",
    "##Fixing clerical errors\n",
    "\n",
    "pups.loc[296,'Troop Number'] = 8\n",
    "pups.loc[312,'Troop Number'] = 8\n",
    "pups.loc[298,'Troop Number'] = 11\n",
    "pups.loc[299,'Troop Number'] = 35\n",
    "pups.loc[300,'Troop Number'] = 27\n",
    "pups.loc[301,'Troop Number'] = 19\n",
    "pups.loc[304,'Troop Number'] = 18\n",
    "pups.loc[317,'Troop Number'] = 11\n",
    "pups.loc[323,'Troop Number'] = 11\n",
    "pups.loc[294,'Troop Number'] = 23\n",
    "\n",
    "pups[\"Troop Number\"] = pd.to_numeric(pups['Troop Number'])\n",
    "\n",
    "pups.shape"
   ]
  },
  {
   "cell_type": "code",
   "execution_count": 7,
   "metadata": {
    "collapsed": false
   },
   "outputs": [
    {
     "data": {
      "text/plain": [
       "34"
      ]
     },
     "execution_count": 7,
     "metadata": {},
     "output_type": "execute_result"
    }
   ],
   "source": [
    "pups['# Pups'].max()"
   ]
  },
  {
   "cell_type": "code",
   "execution_count": 8,
   "metadata": {
    "collapsed": false
   },
   "outputs": [
    {
     "data": {
      "text/plain": [
       "(160, 45)"
      ]
     },
     "execution_count": 8,
     "metadata": {},
     "output_type": "execute_result"
    }
   ],
   "source": [
    "pups = pups.reset_index(drop = True)\n",
    "wet = pd.DataFrame()\n",
    "for i in range(len(pups)):\n",
    "    if (pups.loc[int(i),'Date'].month < 5) | (pups.loc[int(i),'Date'].month > 10):\n",
    "        wet = wet.append(pups.iloc[i])\n",
    "        \n",
    "wet.shape"
   ]
  },
  {
   "cell_type": "code",
   "execution_count": 9,
   "metadata": {
    "collapsed": false
   },
   "outputs": [
    {
     "data": {
      "text/html": [
       "<div>\n",
       "<style>\n",
       "    .dataframe thead tr:only-child th {\n",
       "        text-align: right;\n",
       "    }\n",
       "\n",
       "    .dataframe thead th {\n",
       "        text-align: left;\n",
       "    }\n",
       "\n",
       "    .dataframe tbody tr th {\n",
       "        vertical-align: top;\n",
       "    }\n",
       "</style>\n",
       "<table border=\"1\" class=\"dataframe\">\n",
       "  <thead>\n",
       "    <tr style=\"text-align: right;\">\n",
       "      <th></th>\n",
       "      <th># Feces</th>\n",
       "      <th># Pregnant</th>\n",
       "      <th># Pups</th>\n",
       "      <th>AM/PM</th>\n",
       "      <th>Anal Gland Secr.</th>\n",
       "      <th>Cloud Cover</th>\n",
       "      <th>Columna1</th>\n",
       "      <th>Columna2</th>\n",
       "      <th>Columna3</th>\n",
       "      <th>Columna4</th>\n",
       "      <th>...</th>\n",
       "      <th>Split</th>\n",
       "      <th>Temperature</th>\n",
       "      <th>Time</th>\n",
       "      <th>Time up</th>\n",
       "      <th>Troop</th>\n",
       "      <th>Troop Name</th>\n",
       "      <th>Troop Number</th>\n",
       "      <th>Urine</th>\n",
       "      <th>Wilderness</th>\n",
       "      <th>Wind</th>\n",
       "    </tr>\n",
       "  </thead>\n",
       "  <tbody>\n",
       "    <tr>\n",
       "      <th>23</th>\n",
       "      <td>NaN</td>\n",
       "      <td>NaN</td>\n",
       "      <td>1.0</td>\n",
       "      <td>AM</td>\n",
       "      <td>NaN</td>\n",
       "      <td>NaN</td>\n",
       "      <td>NaN</td>\n",
       "      <td>NaN</td>\n",
       "      <td>NaN</td>\n",
       "      <td>NaN</td>\n",
       "      <td>...</td>\n",
       "      <td>NaN</td>\n",
       "      <td>NaN</td>\n",
       "      <td>NaN</td>\n",
       "      <td>NaN</td>\n",
       "      <td>CSL</td>\n",
       "      <td>NaN</td>\n",
       "      <td>40.0</td>\n",
       "      <td>NaN</td>\n",
       "      <td>NaN</td>\n",
       "      <td>NaN</td>\n",
       "    </tr>\n",
       "    <tr>\n",
       "      <th>47</th>\n",
       "      <td>NaN</td>\n",
       "      <td>NaN</td>\n",
       "      <td>3.0</td>\n",
       "      <td>AM</td>\n",
       "      <td>NaN</td>\n",
       "      <td>NaN</td>\n",
       "      <td>NaN</td>\n",
       "      <td>NaN</td>\n",
       "      <td>NaN</td>\n",
       "      <td>NaN</td>\n",
       "      <td>...</td>\n",
       "      <td>NaN</td>\n",
       "      <td>NaN</td>\n",
       "      <td>NaN</td>\n",
       "      <td>NaN</td>\n",
       "      <td>Safari Lodge</td>\n",
       "      <td>NaN</td>\n",
       "      <td>39.0</td>\n",
       "      <td>NaN</td>\n",
       "      <td>NaN</td>\n",
       "      <td>NaN</td>\n",
       "    </tr>\n",
       "    <tr>\n",
       "      <th>52</th>\n",
       "      <td>2.0</td>\n",
       "      <td>NaN</td>\n",
       "      <td>2.0</td>\n",
       "      <td>NaN</td>\n",
       "      <td>no</td>\n",
       "      <td>NaN</td>\n",
       "      <td>NaN</td>\n",
       "      <td>NaN</td>\n",
       "      <td>NaN</td>\n",
       "      <td>NaN</td>\n",
       "      <td>...</td>\n",
       "      <td>NaN</td>\n",
       "      <td>NaN</td>\n",
       "      <td>8:45</td>\n",
       "      <td>NaN</td>\n",
       "      <td>WA</td>\n",
       "      <td>NaN</td>\n",
       "      <td>17.0</td>\n",
       "      <td>no</td>\n",
       "      <td>NaN</td>\n",
       "      <td>NaN</td>\n",
       "    </tr>\n",
       "  </tbody>\n",
       "</table>\n",
       "<p>3 rows × 45 columns</p>\n",
       "</div>"
      ],
      "text/plain": [
       "    # Feces  # Pregnant  # Pups AM/PM Anal Gland Secr.  Cloud Cover  Columna1  \\\n",
       "23      NaN         NaN     1.0    AM              NaN          NaN       NaN   \n",
       "47      NaN         NaN     3.0    AM              NaN          NaN       NaN   \n",
       "52      2.0         NaN     2.0   NaN               no          NaN       NaN   \n",
       "\n",
       "    Columna2  Columna3  Columna4  ...  Split  Temperature  Time  Time up  \\\n",
       "23       NaN       NaN       NaN  ...    NaN          NaN   NaN      NaN   \n",
       "47       NaN       NaN       NaN  ...    NaN          NaN   NaN      NaN   \n",
       "52       NaN       NaN       NaN  ...    NaN          NaN  8:45      NaN   \n",
       "\n",
       "           Troop Troop Name Troop Number  Urine Wilderness  Wind  \n",
       "23           CSL        NaN         40.0    NaN        NaN   NaN  \n",
       "47  Safari Lodge        NaN         39.0    NaN        NaN   NaN  \n",
       "52            WA        NaN         17.0     no        NaN   NaN  \n",
       "\n",
       "[3 rows x 45 columns]"
      ]
     },
     "execution_count": 9,
     "metadata": {},
     "output_type": "execute_result"
    }
   ],
   "source": [
    "dry = pd.DataFrame()\n",
    "for i in range(len(pups)):\n",
    "    if (pups.loc[int(i),'Date'].month > 4) & (pups.loc[int(i),'Date'].month < 10):\n",
    "        dry = dry.append(pups.iloc[i])\n",
    "        \n",
    "dry"
   ]
  },
  {
   "cell_type": "code",
   "execution_count": 10,
   "metadata": {
    "collapsed": false
   },
   "outputs": [
    {
     "name": "stdout",
     "output_type": "stream",
     "text": [
      "birth rate during the dry season:  0.0731900452489\n"
     ]
    }
   ],
   "source": [
    "dry = dry.reset_index(drop = True)\n",
    "rates = []\n",
    "dates = []\n",
    "for i in range(len(dry)):\n",
    "    rates.append(dry.iloc[i]['# Pups']/dry.iloc[i]['Troop Number'])\n",
    "    dates.append(dry.iloc[i][\"Date\"])\n",
    "dry_birth = (sum(rates)/len(rates))\n",
    "\n",
    "print('birth rate during the dry season: ',dry_birth)\n"
   ]
  },
  {
   "cell_type": "code",
   "execution_count": null,
   "metadata": {
    "collapsed": true
   },
   "outputs": [],
   "source": []
  }
 ],
 "metadata": {
  "kernelspec": {
   "display_name": "Python 3",
   "language": "python",
   "name": "python3"
  },
  "language_info": {
   "codemirror_mode": {
    "name": "ipython",
    "version": 3
   },
   "file_extension": ".py",
   "mimetype": "text/x-python",
   "name": "python",
   "nbconvert_exporter": "python",
   "pygments_lexer": "ipython3",
   "version": "3.5.2"
  }
 },
 "nbformat": 4,
 "nbformat_minor": 2
}
